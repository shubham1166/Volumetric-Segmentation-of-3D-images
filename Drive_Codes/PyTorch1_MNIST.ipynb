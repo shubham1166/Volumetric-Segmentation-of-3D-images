{
  "nbformat": 4,
  "nbformat_minor": 0,
  "metadata": {
    "colab": {
      "name": "PyTorch1.ipynb",
      "version": "0.3.2",
      "provenance": [],
      "toc_visible": true
    },
    "kernelspec": {
      "name": "python3",
      "display_name": "Python 3"
    },
    "accelerator": "GPU"
  },
  "cells": [
    {
      "cell_type": "markdown",
      "metadata": {
        "id": "EJjHyOCykyM2",
        "colab_type": "text"
      },
      "source": [
        "# Shubham Sharma \n",
        "This code will be a basic code of classification in MNIST dataset"
      ]
    },
    {
      "cell_type": "code",
      "metadata": {
        "id": "9Gy9akTZkRiF",
        "colab_type": "code",
        "colab": {}
      },
      "source": [
        "#Importing the functions\n",
        "import torch\n",
        "import torchvision\n",
        "from torchvision import datasets, transforms\n",
        "from torch import nn, optim\n",
        "import matplotlib.pyplot as plt\n",
        "from time import time\n",
        "import numpy as np\n",
        "from torchsummary import summary"
      ],
      "execution_count": 0,
      "outputs": []
    },
    {
      "cell_type": "code",
      "metadata": {
        "id": "nxHvroEY67kh",
        "colab_type": "code",
        "colab": {
          "base_uri": "https://localhost:8080/",
          "height": 52
        },
        "outputId": "f7fa63d7-4aed-493b-fb8a-ffff766a7359"
      },
      "source": [
        "#CHecking the number of GPU and then setting the GPU id\n",
        "print(torch.cuda.current_device())#To know thw current active device\n",
        "print(torch.cuda.get_device_capability())#the major and minor cuda capability of the device\n",
        "device = torch.device('cuda')"
      ],
      "execution_count": 13,
      "outputs": [
        {
          "output_type": "stream",
          "text": [
            "0\n",
            "(7, 5)\n"
          ],
          "name": "stdout"
        }
      ]
    },
    {
      "cell_type": "markdown",
      "metadata": {
        "id": "3FS4jcD0qkET",
        "colab_type": "text"
      },
      "source": [
        "Before downloading the data, let us define what are the transformations we want to perform on our data before feeding it into the pipeline. In other words, you can consider it to be some kind of custom edit to are performing to the images so that all the images have the same dimensions and properties. We do it using **torchvision.transforms**."
      ]
    },
    {
      "cell_type": "code",
      "metadata": {
        "id": "jevjYG6iqfiv",
        "colab_type": "code",
        "colab": {}
      },
      "source": [
        "transform = transforms.Compose([transforms.ToTensor(),\n",
        "                              transforms.Normalize((0.5,), (0.5,)),\n",
        "                              ])"
      ],
      "execution_count": 0,
      "outputs": []
    },
    {
      "cell_type": "markdown",
      "metadata": {
        "id": "nlqiBwNHq2Hq",
        "colab_type": "text"
      },
      "source": [
        "**transforms.ToTensor()** :— converts the image into numbers, that are understandable by the system. It separates the image into three color channels (separate images): red, green & blue. Then it converts the pixels of each image to the brightness of their color between 0 and 255. These values are then scaled down to a range between 0 and 1. The image is now a Torch Tensor.\n",
        "\n",
        "**transforms.Normalize()**: — normalizes the tensor with a mean and standard deviation which goes as the two parameters respectively."
      ]
    },
    {
      "cell_type": "code",
      "metadata": {
        "id": "1CtLWynDmrWN",
        "colab_type": "code",
        "colab": {
          "base_uri": "https://localhost:8080/",
          "height": 535
        },
        "outputId": "0e889b9f-6584-4544-c143-e1435e8dabe2"
      },
      "source": [
        "#Now downloading the data and passing it to the Dataloader\n",
        "\n",
        "trainset = datasets.MNIST('.data/train', download=True, train=True, transform=transform)\n",
        "\n",
        "valset = datasets.MNIST('.data/test', download=True, train=False, transform=transform)\n",
        "\n",
        "trainloader = torch.utils.data.DataLoader(trainset, batch_size=64, shuffle=True)\n",
        "\n",
        "valloader = torch.utils.data.DataLoader(valset, batch_size=64, shuffle=True)\n"
      ],
      "execution_count": 3,
      "outputs": [
        {
          "output_type": "stream",
          "text": [
            "  0%|          | 0/9912422 [00:00<?, ?it/s]"
          ],
          "name": "stderr"
        },
        {
          "output_type": "stream",
          "text": [
            "Downloading http://yann.lecun.com/exdb/mnist/train-images-idx3-ubyte.gz to .data/train/MNIST/raw/train-images-idx3-ubyte.gz\n"
          ],
          "name": "stdout"
        },
        {
          "output_type": "stream",
          "text": [
            "9920512it [00:00, 20839362.83it/s]                            \n"
          ],
          "name": "stderr"
        },
        {
          "output_type": "stream",
          "text": [
            "Extracting .data/train/MNIST/raw/train-images-idx3-ubyte.gz\n"
          ],
          "name": "stdout"
        },
        {
          "output_type": "stream",
          "text": [
            "32768it [00:00, 317265.90it/s]                           \n",
            "0it [00:00, ?it/s]"
          ],
          "name": "stderr"
        },
        {
          "output_type": "stream",
          "text": [
            "Downloading http://yann.lecun.com/exdb/mnist/train-labels-idx1-ubyte.gz to .data/train/MNIST/raw/train-labels-idx1-ubyte.gz\n",
            "Extracting .data/train/MNIST/raw/train-labels-idx1-ubyte.gz\n",
            "Downloading http://yann.lecun.com/exdb/mnist/t10k-images-idx3-ubyte.gz to .data/train/MNIST/raw/t10k-images-idx3-ubyte.gz\n"
          ],
          "name": "stdout"
        },
        {
          "output_type": "stream",
          "text": [
            "1654784it [00:00, 5321340.63it/s]                           \n",
            "8192it [00:00, 128429.38it/s]\n"
          ],
          "name": "stderr"
        },
        {
          "output_type": "stream",
          "text": [
            "Extracting .data/train/MNIST/raw/t10k-images-idx3-ubyte.gz\n",
            "Downloading http://yann.lecun.com/exdb/mnist/t10k-labels-idx1-ubyte.gz to .data/train/MNIST/raw/t10k-labels-idx1-ubyte.gz\n",
            "Extracting .data/train/MNIST/raw/t10k-labels-idx1-ubyte.gz\n",
            "Processing...\n"
          ],
          "name": "stdout"
        },
        {
          "output_type": "stream",
          "text": [
            "  0%|          | 16384/9912422 [00:00<01:24, 117550.77it/s]"
          ],
          "name": "stderr"
        },
        {
          "output_type": "stream",
          "text": [
            "Done!\n",
            "Downloading http://yann.lecun.com/exdb/mnist/train-images-idx3-ubyte.gz to .data/test/MNIST/raw/train-images-idx3-ubyte.gz\n"
          ],
          "name": "stdout"
        },
        {
          "output_type": "stream",
          "text": [
            "9920512it [00:00, 23965333.86it/s]                           \n"
          ],
          "name": "stderr"
        },
        {
          "output_type": "stream",
          "text": [
            "Extracting .data/test/MNIST/raw/train-images-idx3-ubyte.gz\n"
          ],
          "name": "stdout"
        },
        {
          "output_type": "stream",
          "text": [
            "32768it [00:00, 331223.69it/s]\n",
            "0it [00:00, ?it/s]"
          ],
          "name": "stderr"
        },
        {
          "output_type": "stream",
          "text": [
            "Downloading http://yann.lecun.com/exdb/mnist/train-labels-idx1-ubyte.gz to .data/test/MNIST/raw/train-labels-idx1-ubyte.gz\n",
            "Extracting .data/test/MNIST/raw/train-labels-idx1-ubyte.gz\n",
            "Downloading http://yann.lecun.com/exdb/mnist/t10k-images-idx3-ubyte.gz to .data/test/MNIST/raw/t10k-images-idx3-ubyte.gz\n"
          ],
          "name": "stdout"
        },
        {
          "output_type": "stream",
          "text": [
            "1654784it [00:00, 5265600.61it/s]                           \n",
            "8192it [00:00, 130972.58it/s]\n"
          ],
          "name": "stderr"
        },
        {
          "output_type": "stream",
          "text": [
            "Extracting .data/test/MNIST/raw/t10k-images-idx3-ubyte.gz\n",
            "Downloading http://yann.lecun.com/exdb/mnist/t10k-labels-idx1-ubyte.gz to .data/test/MNIST/raw/t10k-labels-idx1-ubyte.gz\n",
            "Extracting .data/test/MNIST/raw/t10k-labels-idx1-ubyte.gz\n",
            "Processing...\n",
            "Done!\n"
          ],
          "name": "stdout"
        }
      ]
    },
    {
      "cell_type": "code",
      "metadata": {
        "id": "LOAygiAYtcEH",
        "colab_type": "code",
        "colab": {
          "base_uri": "https://localhost:8080/",
          "height": 52
        },
        "outputId": "cc991bd6-8046-4939-d299-0a98734ebd68"
      },
      "source": [
        "#Let us see the shape of the images and labels\n",
        "dataiter = iter(trainloader)\n",
        "images, labels = dataiter.next()\n",
        "\n",
        "print(images.shape)\n",
        "print(labels.shape)"
      ],
      "execution_count": 4,
      "outputs": [
        {
          "output_type": "stream",
          "text": [
            "torch.Size([64, 1, 28, 28])\n",
            "torch.Size([64])\n"
          ],
          "name": "stdout"
        }
      ]
    },
    {
      "cell_type": "code",
      "metadata": {
        "id": "rBJQxSdpt2cg",
        "colab_type": "code",
        "colab": {
          "base_uri": "https://localhost:8080/",
          "height": 269
        },
        "outputId": "a9550cf2-c11b-4068-e197-ecdc35315a17"
      },
      "source": [
        "plt.imshow(images[0].numpy().squeeze(), cmap='gray_r');"
      ],
      "execution_count": 5,
      "outputs": [
        {
          "output_type": "display_data",
          "data": {
            "image/png": "[encoded data removed]",
            "text/plain": [
              "<Figure size 432x288 with 1 Axes>"
            ]
          },
          "metadata": {
            "tags": []
          }
        }
      ]
    },
    {
      "cell_type": "code",
      "metadata": {
        "id": "-Zi6zYUIuFPf",
        "colab_type": "code",
        "colab": {
          "base_uri": "https://localhost:8080/",
          "height": 390
        },
        "outputId": "95d585dc-e8c8-4fc2-ddc5-a26287384ba4"
      },
      "source": [
        "#Making the model\n",
        "class Net(nn.Module):\n",
        "  \n",
        "  def __init__(self):\n",
        "    super(Net,self).__init__()\n",
        "    # 1 input image channel, 6 output image channel, 3x3 square convolution\n",
        "    self.conv1=nn.Conv2d(in_channels=1, out_channels=8, kernel_size=(3,3), stride=1, padding=1)\n",
        "    self.conv2=nn.Conv2d(in_channels=8, out_channels=16, kernel_size=(3,3), stride=1, padding=1)\n",
        "    self.max1=nn.MaxPool2d(kernel_size=(2,2), stride=2)\n",
        "    \n",
        "    #Defining fully connected laYers\n",
        "    self.fc1= nn.Linear(14*14*16,100)\n",
        "    self.fc2= nn.Linear(100,10)\n",
        "    \n",
        "    #Defining activations\n",
        "    self.relu = nn.ReLU()\n",
        "  \n",
        "  def forward(self,x):\n",
        "    y=self.conv1(x)\n",
        "    y=self.relu(y)\n",
        "    y=self.conv2(y)\n",
        "    y=self.relu(y)\n",
        "    y=self.max1(y)\n",
        "    y=y.view(-1, 14*14*16)\n",
        "    y=self.fc1(y)\n",
        "    y=self.relu(y)\n",
        "    y=self.fc2(y)\n",
        "    return y\n",
        "\n",
        "##########################################################################\n",
        "model = Net().to(device)#not necessary to add to device\n",
        "summary(model, input_size=(1, 28, 28))"
      ],
      "execution_count": 39,
      "outputs": [
        {
          "output_type": "stream",
          "text": [
            "----------------------------------------------------------------\n",
            "        Layer (type)               Output Shape         Param #\n",
            "================================================================\n",
            "            Conv2d-1            [-1, 8, 28, 28]              80\n",
            "              ReLU-2            [-1, 8, 28, 28]               0\n",
            "            Conv2d-3           [-1, 16, 28, 28]           1,168\n",
            "              ReLU-4           [-1, 16, 28, 28]               0\n",
            "         MaxPool2d-5           [-1, 16, 14, 14]               0\n",
            "            Linear-6                  [-1, 100]         313,700\n",
            "              ReLU-7                  [-1, 100]               0\n",
            "            Linear-8                   [-1, 10]           1,010\n",
            "================================================================\n",
            "Total params: 315,958\n",
            "Trainable params: 315,958\n",
            "Non-trainable params: 0\n",
            "----------------------------------------------------------------\n",
            "Input size (MB): 0.00\n",
            "Forward/backward pass size (MB): 0.31\n",
            "Params size (MB): 1.21\n",
            "Estimated Total Size (MB): 1.52\n",
            "----------------------------------------------------------------\n"
          ],
          "name": "stdout"
        }
      ]
    },
    {
      "cell_type": "code",
      "metadata": {
        "id": "44k0Ie0Q64yd",
        "colab_type": "code",
        "colab": {}
      },
      "source": [
        "lr=1e-2\n",
        "num_of_epochs=20\n",
        "# Loss and optimizer\n",
        "loss_fn = nn.CrossEntropyLoss()\n",
        "optimizer = optim.Adam(model.parameters(), lr=lr)  \n"
      ],
      "execution_count": 0,
      "outputs": []
    },
    {
      "cell_type": "code",
      "metadata": {
        "id": "1flNDyskDBNY",
        "colab_type": "code",
        "colab": {
          "base_uri": "https://localhost:8080/",
          "height": 1000
        },
        "outputId": "5cc9f896-e350-44eb-cac2-879b1275255f"
      },
      "source": [
        "#Training the model\n",
        "total_step = len(trainloader)\n",
        "for epochs in range(num_of_epochs):\n",
        "  for i, (images, labels) in enumerate(trainloader):  \n",
        "    #CHECK THE SHAPE OF BOTH IMAGES AND LABELS\n",
        "    images = images.to(device)\n",
        "    labels = labels.to(device)  \n",
        "    \n",
        "    #Forward pass\n",
        "    outputs = model(images)\n",
        "    loss = loss_fn(outputs, labels)\n",
        "    \n",
        "    # Backpropagation and then optimization\n",
        "    optimizer.zero_grad()#Initially setting the gradient values to zero so backward() can find the gradient\n",
        "    loss.backward()#backpropagate and then optimize\n",
        "    optimizer.step()\n",
        "    if (i+1) % 100 == 0:\n",
        "      print ('Epoch [{}/{}], Step [{}/{}], Loss: {:.4f}' \n",
        "             .format(epochs+1, num_of_epochs, i+1, total_step, loss.item()))\n",
        "\n",
        "    \n",
        "    \n",
        "    "
      ],
      "execution_count": 43,
      "outputs": [
        {
          "output_type": "stream",
          "text": [
            "Epoch [1/20], Step [100/938], Loss: 0.0852\n",
            "Epoch [1/20], Step [200/938], Loss: 0.1205\n",
            "Epoch [1/20], Step [300/938], Loss: 0.3800\n",
            "Epoch [1/20], Step [400/938], Loss: 0.1782\n",
            "Epoch [1/20], Step [500/938], Loss: 0.2178\n",
            "Epoch [1/20], Step [600/938], Loss: 0.2247\n",
            "Epoch [1/20], Step [700/938], Loss: 0.0387\n",
            "Epoch [1/20], Step [800/938], Loss: 0.0404\n",
            "Epoch [1/20], Step [900/938], Loss: 0.0305\n",
            "Epoch [2/20], Step [100/938], Loss: 0.0677\n",
            "Epoch [2/20], Step [200/938], Loss: 0.1785\n",
            "Epoch [2/20], Step [300/938], Loss: 0.0210\n",
            "Epoch [2/20], Step [400/938], Loss: 0.0393\n",
            "Epoch [2/20], Step [500/938], Loss: 0.0344\n",
            "Epoch [2/20], Step [600/938], Loss: 0.0166\n",
            "Epoch [2/20], Step [700/938], Loss: 0.0716\n",
            "Epoch [2/20], Step [800/938], Loss: 0.0692\n",
            "Epoch [2/20], Step [900/938], Loss: 0.0141\n",
            "Epoch [3/20], Step [100/938], Loss: 0.0054\n",
            "Epoch [3/20], Step [200/938], Loss: 0.0051\n",
            "Epoch [3/20], Step [300/938], Loss: 0.0411\n",
            "Epoch [3/20], Step [400/938], Loss: 0.0464\n",
            "Epoch [3/20], Step [500/938], Loss: 0.1044\n",
            "Epoch [3/20], Step [600/938], Loss: 0.0070\n",
            "Epoch [3/20], Step [700/938], Loss: 0.0146\n",
            "Epoch [3/20], Step [800/938], Loss: 0.0514\n",
            "Epoch [3/20], Step [900/938], Loss: 0.0285\n",
            "Epoch [4/20], Step [100/938], Loss: 0.0332\n",
            "Epoch [4/20], Step [200/938], Loss: 0.0010\n",
            "Epoch [4/20], Step [300/938], Loss: 0.0638\n",
            "Epoch [4/20], Step [400/938], Loss: 0.0009\n",
            "Epoch [4/20], Step [500/938], Loss: 0.0003\n",
            "Epoch [4/20], Step [600/938], Loss: 0.0234\n",
            "Epoch [4/20], Step [700/938], Loss: 0.0560\n",
            "Epoch [4/20], Step [800/938], Loss: 0.0900\n",
            "Epoch [4/20], Step [900/938], Loss: 0.0706\n",
            "Epoch [5/20], Step [100/938], Loss: 0.0003\n",
            "Epoch [5/20], Step [200/938], Loss: 0.0214\n",
            "Epoch [5/20], Step [300/938], Loss: 0.0462\n",
            "Epoch [5/20], Step [400/938], Loss: 0.0335\n",
            "Epoch [5/20], Step [500/938], Loss: 0.0066\n",
            "Epoch [5/20], Step [600/938], Loss: 0.0154\n",
            "Epoch [5/20], Step [700/938], Loss: 0.0486\n",
            "Epoch [5/20], Step [800/938], Loss: 0.0799\n",
            "Epoch [5/20], Step [900/938], Loss: 0.1815\n",
            "Epoch [6/20], Step [100/938], Loss: 0.0124\n",
            "Epoch [6/20], Step [200/938], Loss: 0.0000\n",
            "Epoch [6/20], Step [300/938], Loss: 0.1586\n",
            "Epoch [6/20], Step [400/938], Loss: 0.0207\n",
            "Epoch [6/20], Step [500/938], Loss: 0.0243\n",
            "Epoch [6/20], Step [600/938], Loss: 0.0051\n",
            "Epoch [6/20], Step [700/938], Loss: 0.0960\n",
            "Epoch [6/20], Step [800/938], Loss: 0.0432\n",
            "Epoch [6/20], Step [900/938], Loss: 0.0017\n",
            "Epoch [7/20], Step [100/938], Loss: 0.0672\n",
            "Epoch [7/20], Step [200/938], Loss: 0.0111\n",
            "Epoch [7/20], Step [300/938], Loss: 0.0141\n",
            "Epoch [7/20], Step [400/938], Loss: 0.0335\n",
            "Epoch [7/20], Step [500/938], Loss: 0.0074\n",
            "Epoch [7/20], Step [600/938], Loss: 0.0326\n",
            "Epoch [7/20], Step [700/938], Loss: 0.0003\n",
            "Epoch [7/20], Step [800/938], Loss: 0.0003\n",
            "Epoch [7/20], Step [900/938], Loss: 0.1379\n",
            "Epoch [8/20], Step [100/938], Loss: 0.0117\n",
            "Epoch [8/20], Step [200/938], Loss: 0.0332\n",
            "Epoch [8/20], Step [300/938], Loss: 0.0009\n",
            "Epoch [8/20], Step [400/938], Loss: 0.2164\n",
            "Epoch [8/20], Step [500/938], Loss: 0.0002\n",
            "Epoch [8/20], Step [600/938], Loss: 0.0363\n",
            "Epoch [8/20], Step [700/938], Loss: 0.0217\n",
            "Epoch [8/20], Step [800/938], Loss: 0.0007\n",
            "Epoch [8/20], Step [900/938], Loss: 0.0088\n",
            "Epoch [9/20], Step [100/938], Loss: 0.0007\n",
            "Epoch [9/20], Step [200/938], Loss: 0.0047\n",
            "Epoch [9/20], Step [300/938], Loss: 0.0322\n",
            "Epoch [9/20], Step [400/938], Loss: 0.0022\n",
            "Epoch [9/20], Step [500/938], Loss: 0.0007\n",
            "Epoch [9/20], Step [600/938], Loss: 0.0017\n",
            "Epoch [9/20], Step [700/938], Loss: 0.0587\n",
            "Epoch [9/20], Step [800/938], Loss: 0.0356\n",
            "Epoch [9/20], Step [900/938], Loss: 0.0133\n",
            "Epoch [10/20], Step [100/938], Loss: 0.1206\n",
            "Epoch [10/20], Step [200/938], Loss: 0.0098\n",
            "Epoch [10/20], Step [300/938], Loss: 0.0558\n",
            "Epoch [10/20], Step [400/938], Loss: 0.1196\n",
            "Epoch [10/20], Step [500/938], Loss: 0.0025\n",
            "Epoch [10/20], Step [600/938], Loss: 0.0407\n",
            "Epoch [10/20], Step [700/938], Loss: 0.0049\n",
            "Epoch [10/20], Step [800/938], Loss: 0.0007\n",
            "Epoch [10/20], Step [900/938], Loss: 0.0000\n",
            "Epoch [11/20], Step [100/938], Loss: 0.0003\n",
            "Epoch [11/20], Step [200/938], Loss: 0.0148\n",
            "Epoch [11/20], Step [300/938], Loss: 0.0026\n",
            "Epoch [11/20], Step [400/938], Loss: 0.0052\n",
            "Epoch [11/20], Step [500/938], Loss: 0.1185\n",
            "Epoch [11/20], Step [600/938], Loss: 0.1114\n",
            "Epoch [11/20], Step [700/938], Loss: 0.0625\n",
            "Epoch [11/20], Step [800/938], Loss: 0.0003\n",
            "Epoch [11/20], Step [900/938], Loss: 0.0392\n",
            "Epoch [12/20], Step [100/938], Loss: 0.0008\n",
            "Epoch [12/20], Step [200/938], Loss: 0.0631\n",
            "Epoch [12/20], Step [300/938], Loss: 0.0066\n",
            "Epoch [12/20], Step [400/938], Loss: 0.0229\n",
            "Epoch [12/20], Step [500/938], Loss: 0.0107\n",
            "Epoch [12/20], Step [600/938], Loss: 0.0021\n",
            "Epoch [12/20], Step [700/938], Loss: 0.0440\n",
            "Epoch [12/20], Step [800/938], Loss: 0.0071\n",
            "Epoch [12/20], Step [900/938], Loss: 0.0073\n",
            "Epoch [13/20], Step [100/938], Loss: 0.0186\n",
            "Epoch [13/20], Step [200/938], Loss: 0.0002\n",
            "Epoch [13/20], Step [300/938], Loss: 0.0304\n",
            "Epoch [13/20], Step [400/938], Loss: 0.0006\n",
            "Epoch [13/20], Step [500/938], Loss: 0.0437\n",
            "Epoch [13/20], Step [600/938], Loss: 0.1031\n",
            "Epoch [13/20], Step [700/938], Loss: 0.0004\n",
            "Epoch [13/20], Step [800/938], Loss: 0.0003\n",
            "Epoch [13/20], Step [900/938], Loss: 0.0001\n",
            "Epoch [14/20], Step [100/938], Loss: 0.0534\n",
            "Epoch [14/20], Step [200/938], Loss: 0.0055\n",
            "Epoch [14/20], Step [300/938], Loss: 0.0001\n",
            "Epoch [14/20], Step [400/938], Loss: 0.0138\n",
            "Epoch [14/20], Step [500/938], Loss: 0.0441\n",
            "Epoch [14/20], Step [600/938], Loss: 0.0700\n",
            "Epoch [14/20], Step [700/938], Loss: 0.0056\n",
            "Epoch [14/20], Step [800/938], Loss: 0.0957\n",
            "Epoch [14/20], Step [900/938], Loss: 0.0099\n",
            "Epoch [15/20], Step [100/938], Loss: 0.0068\n",
            "Epoch [15/20], Step [200/938], Loss: 0.0000\n",
            "Epoch [15/20], Step [300/938], Loss: 0.0138\n",
            "Epoch [15/20], Step [400/938], Loss: 0.0646\n",
            "Epoch [15/20], Step [500/938], Loss: 0.0455\n",
            "Epoch [15/20], Step [600/938], Loss: 0.0314\n",
            "Epoch [15/20], Step [700/938], Loss: 0.0011\n",
            "Epoch [15/20], Step [800/938], Loss: 0.0004\n",
            "Epoch [15/20], Step [900/938], Loss: 0.0894\n",
            "Epoch [16/20], Step [100/938], Loss: 0.0031\n",
            "Epoch [16/20], Step [200/938], Loss: 0.0744\n",
            "Epoch [16/20], Step [300/938], Loss: 0.0045\n",
            "Epoch [16/20], Step [400/938], Loss: 0.0361\n",
            "Epoch [16/20], Step [500/938], Loss: 0.0002\n",
            "Epoch [16/20], Step [600/938], Loss: 0.0005\n",
            "Epoch [16/20], Step [700/938], Loss: 0.0000\n",
            "Epoch [16/20], Step [800/938], Loss: 0.0005\n",
            "Epoch [16/20], Step [900/938], Loss: 0.0069\n",
            "Epoch [17/20], Step [100/938], Loss: 0.0280\n",
            "Epoch [17/20], Step [200/938], Loss: 0.0029\n",
            "Epoch [17/20], Step [300/938], Loss: 0.0013\n",
            "Epoch [17/20], Step [400/938], Loss: 0.0141\n",
            "Epoch [17/20], Step [500/938], Loss: 0.0000\n",
            "Epoch [17/20], Step [600/938], Loss: 0.1660\n",
            "Epoch [17/20], Step [700/938], Loss: 0.0002\n",
            "Epoch [17/20], Step [800/938], Loss: 0.0025\n",
            "Epoch [17/20], Step [900/938], Loss: 0.0023\n",
            "Epoch [18/20], Step [100/938], Loss: 0.0430\n",
            "Epoch [18/20], Step [200/938], Loss: 0.0001\n",
            "Epoch [18/20], Step [300/938], Loss: 0.0269\n",
            "Epoch [18/20], Step [400/938], Loss: 0.0681\n",
            "Epoch [18/20], Step [500/938], Loss: 0.0285\n",
            "Epoch [18/20], Step [600/938], Loss: 0.0084\n",
            "Epoch [18/20], Step [700/938], Loss: 0.0045\n",
            "Epoch [18/20], Step [800/938], Loss: 0.0005\n",
            "Epoch [18/20], Step [900/938], Loss: 0.0001\n",
            "Epoch [19/20], Step [100/938], Loss: 0.0383\n",
            "Epoch [19/20], Step [200/938], Loss: 0.0434\n",
            "Epoch [19/20], Step [300/938], Loss: 0.0001\n",
            "Epoch [19/20], Step [400/938], Loss: 0.0011\n",
            "Epoch [19/20], Step [500/938], Loss: 0.0008\n",
            "Epoch [19/20], Step [600/938], Loss: 0.0001\n",
            "Epoch [19/20], Step [700/938], Loss: 0.0250\n",
            "Epoch [19/20], Step [800/938], Loss: 0.0013\n",
            "Epoch [19/20], Step [900/938], Loss: 0.0008\n",
            "Epoch [20/20], Step [100/938], Loss: 0.0598\n",
            "Epoch [20/20], Step [200/938], Loss: 0.0062\n",
            "Epoch [20/20], Step [300/938], Loss: 0.0004\n",
            "Epoch [20/20], Step [400/938], Loss: 0.0144\n",
            "Epoch [20/20], Step [500/938], Loss: 0.0708\n",
            "Epoch [20/20], Step [600/938], Loss: 0.1296\n",
            "Epoch [20/20], Step [700/938], Loss: 0.0659\n",
            "Epoch [20/20], Step [800/938], Loss: 0.0000\n",
            "Epoch [20/20], Step [900/938], Loss: 0.0000\n"
          ],
          "name": "stdout"
        }
      ]
    },
    {
      "cell_type": "code",
      "metadata": {
        "id": "tqz7DdiXMM22",
        "colab_type": "code",
        "colab": {
          "base_uri": "https://localhost:8080/",
          "height": 35
        },
        "outputId": "5f70c505-27d6-4e83-facd-809a958ad66a"
      },
      "source": [
        "#For Testing\n",
        "# In test phase, we don't need to compute gradients (for memory efficiency)\n",
        "with torch.no_grad():\n",
        "  correct=0\n",
        "  total=0\n",
        "  for images, labels in valloader:\n",
        "    images=images.to(device)\n",
        "    labels=labels.to(device)\n",
        "    outputs= model(images)\n",
        "    #outputs.data is the output of softmax layer\n",
        "    _, predicted = torch.max(outputs.data, 1)\n",
        "    total += labels.size(0)\n",
        "    correct += (predicted == labels).sum().item()\n",
        "    \n",
        "  print('Accuracy of the network on the 10000 test images: {} %'.format(100 * correct / total))\n",
        "\n",
        "  "
      ],
      "execution_count": 48,
      "outputs": [
        {
          "output_type": "stream",
          "text": [
            "Accuracy of the network on the 10000 test images: 98.06 %\n"
          ],
          "name": "stdout"
        }
      ]
    },
    {
      "cell_type": "code",
      "metadata": {
        "id": "N8MI_b5KXeht",
        "colab_type": "code",
        "colab": {
          "base_uri": "https://localhost:8080/",
          "height": 72
        },
        "outputId": "c6192582-6cb3-423d-fc12-b0152d19ff8a"
      },
      "source": [
        "# Save the model checkpoint\n",
        "torch.save(model, './model')"
      ],
      "execution_count": 50,
      "outputs": [
        {
          "output_type": "stream",
          "text": [
            "/usr/local/lib/python3.6/dist-packages/torch/serialization.py:256: UserWarning: Couldn't retrieve source code for container of type Net. It won't be checked for correctness upon loading.\n",
            "  \"type \" + obj.__name__ + \". It won't be checked \"\n"
          ],
          "name": "stderr"
        }
      ]
    },
    {
      "cell_type": "code",
      "metadata": {
        "id": "rfvYmyeVYpZs",
        "colab_type": "code",
        "colab": {}
      },
      "source": [
        ""
      ],
      "execution_count": 0,
      "outputs": []
    }
  ]
}