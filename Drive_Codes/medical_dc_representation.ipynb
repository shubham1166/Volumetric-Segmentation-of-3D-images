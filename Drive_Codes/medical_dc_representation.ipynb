{
  "nbformat": 4,
  "nbformat_minor": 0,
  "metadata": {
    "colab": {
      "name": "medical_dc_representation.ipynb",
      "version": "0.3.2",
      "provenance": [],
      "collapsed_sections": [],
      "toc_visible": true
    },
    "kernelspec": {
      "name": "python3",
      "display_name": "Python 3"
    },
    "accelerator": "GPU"
  },
  "cells": [
    {
      "cell_type": "markdown",
      "metadata": {
        "id": "bX79uCRDS7_z",
        "colab_type": "text"
      },
      "source": [
        "## SHUBHAM SHARMA\n",
        "### IIT BOMBAY\n",
        "This code is to get familiar with the dataset that we are using for volumetric segmentation. We'll go through the heart and spleen dataset here and will try to understand their shape and other features."
      ]
    },
    {
      "cell_type": "markdown",
      "metadata": {
        "id": "NL6wsx3cs5ns",
        "colab_type": "text"
      },
      "source": [
        "**Let us first see the cardiac data**"
      ]
    },
    {
      "cell_type": "code",
      "metadata": {
        "id": "J2eaWoz0PdGd",
        "colab_type": "code",
        "outputId": "986bbadd-5dc8-4708-ba87-4dd7c1333030",
        "colab": {
          "base_uri": "https://localhost:8080/",
          "height": 124
        }
      },
      "source": [
        "from google.colab import drive\n",
        "drive.mount('/content/gdrive')"
      ],
      "execution_count": 0,
      "outputs": [
        {
          "output_type": "stream",
          "text": [
            "Go to this URL in a browser: https://accounts.google.com/o/oauth2/auth?client_id=947318989803-6bn6qk8qdgf4n4g3pfee6491hc0brc4i.apps.googleusercontent.com&redirect_uri=urn%3Aietf%3Awg%3Aoauth%3A2.0%3Aoob&scope=email%20https%3A%2F%2Fwww.googleapis.com%2Fauth%2Fdocs.test%20https%3A%2F%2Fwww.googleapis.com%2Fauth%2Fdrive%20https%3A%2F%2Fwww.googleapis.com%2Fauth%2Fdrive.photos.readonly%20https%3A%2F%2Fwww.googleapis.com%2Fauth%2Fpeopleapi.readonly&response_type=code\n",
            "\n",
            "Enter your authorization code:\n",
            "··········\n",
            "Mounted at /content/gdrive\n"
          ],
          "name": "stdout"
        }
      ]
    },
    {
      "cell_type": "code",
      "metadata": {
        "id": "18FO1lG1PA_S",
        "colab_type": "code",
        "colab": {}
      },
      "source": [
        "# Importing the libraries\n",
        "import matplotlib.pyplot as plt\n",
        "import numpy as np\n",
        "# # Set numpy to print only 2 decimal digits for neatness\n",
        "# np.set_printoptions(precision=2, suppress=True)\n",
        "\n",
        "import os\n",
        "import nibabel as nib\n",
        "\n",
        "%matplotlib inline"
      ],
      "execution_count": 0,
      "outputs": []
    },
    {
      "cell_type": "code",
      "metadata": {
        "id": "u8PKgqTQPYSw",
        "colab_type": "code",
        "outputId": "3f4d3e5d-1556-47dc-fa27-a77c77a851fa",
        "colab": {
          "base_uri": "https://localhost:8080/",
          "height": 107
        }
      },
      "source": [
        "path2images='gdrive/My Drive/data_phase1/Heart/imagesTr/'\n",
        "path2labels='gdrive/My Drive/data_phase1/Heart/labelsTr/'\n",
        "list_of_images=os.listdir(path2images)\n",
        "list_of_labels=os.listdir(path2labels)\n",
        "print('Files in training:',list_of_images)\n",
        "print('Files in testing',list_of_labels)\n",
        "\n",
        "print(len(list_of_images))\n",
        "print(len(list_of_labels))"
      ],
      "execution_count": 0,
      "outputs": [
        {
          "output_type": "stream",
          "text": [
            "Files in training: ['._la_029.nii.gz', 'la_003.nii.gz', 'la_004.nii.gz', 'la_005.nii.gz', 'la_007.nii.gz', 'la_009.nii.gz', 'la_010.nii.gz', 'la_011.nii.gz', 'la_014.nii.gz', 'la_016.nii.gz', 'la_017.nii.gz', 'la_018.nii.gz', 'la_019.nii.gz', 'la_020.nii.gz', 'la_021.nii.gz', 'la_022.nii.gz', 'la_023.nii.gz', 'la_024.nii.gz', 'la_026.nii.gz', 'la_029.nii.gz', 'la_030.nii.gz']\n",
            "Files in testing ['._la_014.nii.gz', 'la_003.nii.gz', 'la_005.nii.gz', 'la_004.nii.gz', '._la_029.nii.gz', 'la_007.nii.gz', 'la_016.nii.gz', 'la_009.nii.gz', 'la_011.nii.gz', 'la_014.nii.gz', 'la_010.nii.gz', 'la_019.nii.gz', 'la_018.nii.gz', 'la_017.nii.gz', 'la_021.nii.gz', 'la_020.nii.gz', 'la_022.nii.gz', 'la_024.nii.gz', 'la_026.nii.gz', 'la_023.nii.gz', 'la_029.nii.gz', 'la_030.nii.gz']\n",
            "21\n",
            "22\n"
          ],
          "name": "stdout"
        }
      ]
    },
    {
      "cell_type": "code",
      "metadata": {
        "id": "wnGcWc04uKk4",
        "colab_type": "code",
        "outputId": "7699425d-8ddc-4c95-d5a8-fd987b39fd2d",
        "colab": {
          "base_uri": "https://localhost:8080/",
          "height": 364
        }
      },
      "source": [
        "for i in range(len(list_of_images)):\n",
        "  if list_of_images[i][0]!='.':\n",
        "    x=list_of_images[i]\n",
        "    img = nib.load(path2images+x)\n",
        "    img_data = img.get_fdata()\n",
        "    print('The shape of',x , ' data is',img_data.shape,'minimum is',np.min(img_data),'and maximum is',np.max(img_data))"
      ],
      "execution_count": 0,
      "outputs": [
        {
          "output_type": "stream",
          "text": [
            "The shape of la_003.nii.gz  data is (320, 320, 130) minimum is 0.0 and maximum is 1999.0\n",
            "The shape of la_004.nii.gz  data is (320, 320, 110) minimum is 0.0 and maximum is 1811.0\n",
            "The shape of la_005.nii.gz  data is (320, 320, 120) minimum is 0.0 and maximum is 1888.0\n",
            "The shape of la_007.nii.gz  data is (320, 320, 130) minimum is 0.0 and maximum is 1873.0\n",
            "The shape of la_009.nii.gz  data is (320, 320, 100) minimum is 0.0 and maximum is 2171.0\n",
            "The shape of la_010.nii.gz  data is (320, 320, 120) minimum is 0.0 and maximum is 1907.0\n",
            "The shape of la_011.nii.gz  data is (320, 320, 120) minimum is 0.0 and maximum is 1979.0\n",
            "The shape of la_014.nii.gz  data is (320, 320, 120) minimum is 0.0 and maximum is 2058.0\n",
            "The shape of la_016.nii.gz  data is (320, 320, 90) minimum is 0.0 and maximum is 2017.0\n",
            "The shape of la_017.nii.gz  data is (320, 320, 120) minimum is 0.0 and maximum is 1937.0\n",
            "The shape of la_018.nii.gz  data is (320, 320, 122) minimum is 0.0 and maximum is 2095.0\n",
            "The shape of la_019.nii.gz  data is (320, 320, 100) minimum is 0.0 and maximum is 1662.0\n",
            "The shape of la_020.nii.gz  data is (320, 320, 110) minimum is 0.0 and maximum is 2005.0\n",
            "The shape of la_021.nii.gz  data is (320, 320, 100) minimum is 0.0 and maximum is 1852.0\n",
            "The shape of la_022.nii.gz  data is (320, 320, 110) minimum is 0.0 and maximum is 1901.0\n",
            "The shape of la_023.nii.gz  data is (320, 320, 110) minimum is 0.0 and maximum is 1999.0\n",
            "The shape of la_024.nii.gz  data is (320, 320, 120) minimum is 0.0 and maximum is 2060.0\n",
            "The shape of la_026.nii.gz  data is (320, 320, 120) minimum is 0.0 and maximum is 1888.0\n",
            "The shape of la_029.nii.gz  data is (320, 320, 109) minimum is 0.0 and maximum is 2196.0\n",
            "The shape of la_030.nii.gz  data is (320, 320, 110) minimum is 0.0 and maximum is 2045.0\n"
          ],
          "name": "stdout"
        }
      ]
    },
    {
      "cell_type": "markdown",
      "metadata": {
        "id": "oNF9BGd-yxNe",
        "colab_type": "text"
      },
      "source": [
        "There are 20 training images and 10 testing images in the cardiac data"
      ]
    },
    {
      "cell_type": "code",
      "metadata": {
        "id": "bgkIKO5tXMbe",
        "colab_type": "code",
        "outputId": "901f5888-641f-4667-ed43-6fa1329f7c97",
        "colab": {
          "base_uri": "https://localhost:8080/",
          "height": 253
        }
      },
      "source": [
        "#Let us plot any of the image and its corresponding label images\n",
        "epi_img = nib.load(path2images+'la_003.nii.gz')\n",
        "epi_img_data = epi_img.get_fdata()\n",
        "epi_img_data.shape\n",
        "\n",
        "def show_slices(slices):\n",
        "# Function to display row of image slices\n",
        "  fig, axes = plt.subplots(1, len(slices))\n",
        "  for i, slice in enumerate(slices):\n",
        "    axes[i].imshow(slice.T, cmap=\"gray\", origin=\"lower\")\n",
        "    \n",
        "slice_0 = epi_img_data[160, :, :]\n",
        "slice_1 = epi_img_data[:, 160, :]\n",
        "slice_2 = epi_img_data[:, :, 65]\n",
        "show_slices([slice_0, slice_1, slice_2])\n",
        "plt.suptitle(\"Center slices for image\")  "
      ],
      "execution_count": 0,
      "outputs": [
        {
          "output_type": "execute_result",
          "data": {
            "text/plain": [
              "Text(0.5, 0.98, 'Center slices for image')"
            ]
          },
          "metadata": {
            "tags": []
          },
          "execution_count": 5
        },
        {
          "output_type": "display_data",
          "data": {
            "image/png": "[encoded data removed]",
            "text/plain": [
              "<Figure size 432x288 with 3 Axes>"
            ]
          },
          "metadata": {
            "tags": []
          }
        }
      ]
    },
    {
      "cell_type": "code",
      "metadata": {
        "id": "TvblgdoWng4v",
        "colab_type": "code",
        "outputId": "2609e827-e0dc-47b4-ea5d-a1ee883dea4d",
        "colab": {
          "base_uri": "https://localhost:8080/",
          "height": 253
        }
      },
      "source": [
        "epi_img = nib.load(path2labels+'la_003.nii.gz')\n",
        "epi_img_data = epi_img.get_fdata()\n",
        "epi_img_data.shape\n",
        "\n",
        "def show_slices(slices):\n",
        "# Function to display row of image slices\n",
        "  fig, axes = plt.subplots(1, len(slices))\n",
        "  for i, slice in enumerate(slices):\n",
        "    axes[i].imshow(slice.T, cmap=\"gray\", origin=\"lower\")\n",
        "    \n",
        "slice_0 = epi_img_data[160, :, :]\n",
        "slice_1 = epi_img_data[:, 160, :]\n",
        "slice_2 = epi_img_data[:, :, 65]\n",
        "show_slices([slice_0, slice_1, slice_2])\n",
        "plt.suptitle(\"Center slices for image\")  # doctest: +SKIP"
      ],
      "execution_count": 0,
      "outputs": [
        {
          "output_type": "execute_result",
          "data": {
            "text/plain": [
              "Text(0.5, 0.98, 'Center slices for image')"
            ]
          },
          "metadata": {
            "tags": []
          },
          "execution_count": 6
        },
        {
          "output_type": "display_data",
          "data": {
            "image/png": "[encoded data removed]",
            "text/plain": [
              "<Figure size 432x288 with 3 Axes>"
            ]
          },
          "metadata": {
            "tags": []
          }
        }
      ]
    },
    {
      "cell_type": "markdown",
      "metadata": {
        "id": "f99YepU5yQVS",
        "colab_type": "text"
      },
      "source": [
        "**Let us now see the spleen data**"
      ]
    },
    {
      "cell_type": "code",
      "metadata": {
        "id": "pnZ13bX9sc5T",
        "colab_type": "code",
        "outputId": "ec3eacf1-3bc8-4579-c2d6-c662775faa8d",
        "colab": {
          "base_uri": "https://localhost:8080/",
          "height": 107
        }
      },
      "source": [
        "path2images='gdrive/My Drive/data_phase1/Spleen/imagesTr/'\n",
        "path2labels='gdrive/My Drive/data_phase1/Spleen/labelsTr/'\n",
        "list_of_images=os.listdir(path2images)\n",
        "list_of_labels=os.listdir(path2labels)\n",
        "print('Files in training:',list_of_images)\n",
        "print('Files in testing',list_of_labels)\n",
        "\n",
        "print(len(list_of_images))\n",
        "print(len(list_of_labels))"
      ],
      "execution_count": 0,
      "outputs": [
        {
          "output_type": "stream",
          "text": [
            "Files in training: ['._spleen_10.nii.gz', '._spleen_13.nii.gz', '._spleen_12.nii.gz', '._spleen_14.nii.gz', '._spleen_16.nii.gz', '._spleen_17.nii.gz', '._spleen_18.nii.gz', '._spleen_20.nii.gz', '._spleen_19.nii.gz', '._spleen_2.nii.gz', '._spleen_21.nii.gz', '._spleen_24.nii.gz', '._spleen_22.nii.gz', '._spleen_26.nii.gz', '._spleen_25.nii.gz', 'spleen_10.nii.gz', '._spleen_27.nii.gz', '._spleen_32.nii.gz', '._spleen_31.nii.gz', '._spleen_29.nii.gz', '._spleen_28.nii.gz', '._spleen_3.nii.gz', '._spleen_40.nii.gz', '._spleen_33.nii.gz', '._spleen_41.nii.gz', '._spleen_38.nii.gz', '._spleen_44.nii.gz', '._spleen_45.nii.gz', '._spleen_49.nii.gz', '._spleen_47.nii.gz', '._spleen_46.nii.gz', '._spleen_52.nii.gz', '._spleen_56.nii.gz', '._spleen_6.nii.gz', '._spleen_59.nii.gz', '._spleen_53.nii.gz', '._spleen_60.nii.gz', '._spleen_9.nii.gz', '._spleen_63.nii.gz', '._spleen_61.nii.gz', '._spleen_8.nii.gz', '._spleen_62.nii.gz', 'spleen_12.nii.gz', 'spleen_13.nii.gz', 'spleen_14.nii.gz', 'spleen_16.nii.gz', 'spleen_17.nii.gz', 'spleen_18.nii.gz', 'spleen_19.nii.gz', 'spleen_2.nii.gz', 'spleen_20.nii.gz', 'spleen_21.nii.gz', 'spleen_22.nii.gz', 'spleen_24.nii.gz', 'spleen_25.nii.gz', 'spleen_26.nii.gz', 'spleen_27.nii.gz', 'spleen_28.nii.gz', 'spleen_29.nii.gz', 'spleen_3.nii.gz', 'spleen_31.nii.gz', 'spleen_32.nii.gz', 'spleen_33.nii.gz', 'spleen_38.nii.gz', 'spleen_40.nii.gz', 'spleen_41.nii.gz', 'spleen_44.nii.gz', 'spleen_45.nii.gz', 'spleen_46.nii.gz', 'spleen_47.nii.gz', 'spleen_49.nii.gz', 'spleen_52.nii.gz', 'spleen_53.nii.gz', 'spleen_56.nii.gz', 'spleen_59.nii.gz', 'spleen_6.nii.gz', 'spleen_60.nii.gz', 'spleen_61.nii.gz', 'spleen_62.nii.gz', 'spleen_63.nii.gz', 'spleen_8.nii.gz', 'spleen_9.nii.gz']\n",
            "Files in testing ['._spleen_12.nii.gz', '._spleen_10.nii.gz', '._spleen_14.nii.gz', '._spleen_13.nii.gz', '._spleen_16.nii.gz', '._spleen_20.nii.gz', '._spleen_2.nii.gz', '._spleen_18.nii.gz', '._spleen_19.nii.gz', '._spleen_17.nii.gz', '._spleen_21.nii.gz', '._spleen_25.nii.gz', '._spleen_24.nii.gz', '._spleen_22.nii.gz', '._spleen_26.nii.gz', '._spleen_31.nii.gz', '._spleen_3.nii.gz', '._spleen_27.nii.gz', '._spleen_28.nii.gz', '._spleen_29.nii.gz', '._spleen_32.nii.gz', '._spleen_38.nii.gz', '._spleen_40.nii.gz', '._spleen_33.nii.gz', '._spleen_41.nii.gz', '._spleen_46.nii.gz', '._spleen_44.nii.gz', '._spleen_47.nii.gz', '._spleen_45.nii.gz', '._spleen_49.nii.gz', '._spleen_52.nii.gz', '._spleen_56.nii.gz', '._spleen_53.nii.gz', '._spleen_59.nii.gz', '._spleen_6.nii.gz', '._spleen_8.nii.gz', '._spleen_61.nii.gz', '._spleen_63.nii.gz', '._spleen_60.nii.gz', '._spleen_62.nii.gz', 'spleen_10.nii.gz', '._spleen_9.nii.gz', 'spleen_13.nii.gz', 'spleen_12.nii.gz', 'spleen_14.nii.gz', 'spleen_2.nii.gz', 'spleen_16.nii.gz', 'spleen_18.nii.gz', 'spleen_17.nii.gz', 'spleen_20.nii.gz', 'spleen_21.nii.gz', 'spleen_22.nii.gz', 'spleen_19.nii.gz', 'spleen_24.nii.gz', 'spleen_25.nii.gz', 'spleen_3.nii.gz', 'spleen_28.nii.gz', 'spleen_26.nii.gz', 'spleen_27.nii.gz', 'spleen_31.nii.gz', 'spleen_32.nii.gz', 'spleen_33.nii.gz', 'spleen_38.nii.gz', 'spleen_29.nii.gz', 'spleen_40.nii.gz', 'spleen_47.nii.gz', 'spleen_45.nii.gz', 'spleen_44.nii.gz', 'spleen_41.nii.gz', 'spleen_52.nii.gz', 'spleen_49.nii.gz', 'spleen_53.nii.gz', 'spleen_46.nii.gz', 'spleen_56.nii.gz', 'spleen_59.nii.gz', 'spleen_63.nii.gz', 'spleen_60.nii.gz', 'spleen_6.nii.gz', 'spleen_61.nii.gz', 'spleen_8.nii.gz', 'spleen_9.nii.gz', 'spleen_62.nii.gz']\n",
            "82\n",
            "82\n"
          ],
          "name": "stdout"
        }
      ]
    },
    {
      "cell_type": "code",
      "metadata": {
        "id": "Y1JVZ1mpytw8",
        "colab_type": "code",
        "outputId": "9c21509a-d051-4d9a-e45f-365f636c770f",
        "colab": {
          "base_uri": "https://localhost:8080/",
          "height": 728
        }
      },
      "source": [
        "for i in range(len(list_of_images)):\n",
        "  if list_of_images[i][0]!='.':\n",
        "    x=list_of_images[i]\n",
        "    img = nib.load(path2images+x)\n",
        "    img_data = img.get_fdata()\n",
        "    print('The shape of',x , ' data is',img_data.shape,'minimum is',np.min(img_data),'and maximum is',np.max(img_data))"
      ],
      "execution_count": 0,
      "outputs": [
        {
          "output_type": "stream",
          "text": [
            "The shape of spleen_10.nii.gz  data is (512, 512, 55) minimum is -1024.0 and maximum is 3072.0\n",
            "The shape of spleen_12.nii.gz  data is (512, 512, 168) minimum is -1024.0 and maximum is 3072.0\n",
            "The shape of spleen_13.nii.gz  data is (512, 512, 77) minimum is -1024.0 and maximum is 1189.0\n",
            "The shape of spleen_14.nii.gz  data is (512, 512, 54) minimum is -1024.0 and maximum is 1846.0\n",
            "The shape of spleen_16.nii.gz  data is (512, 512, 61) minimum is -1024.0 and maximum is 1616.0\n",
            "The shape of spleen_17.nii.gz  data is (512, 512, 95) minimum is -1024.0 and maximum is 1964.0\n",
            "The shape of spleen_18.nii.gz  data is (512, 512, 164) minimum is -1024.0 and maximum is 2258.0\n",
            "The shape of spleen_19.nii.gz  data is (512, 512, 51) minimum is -1024.0 and maximum is 1372.0\n",
            "The shape of spleen_2.nii.gz  data is (512, 512, 90) minimum is -1024.0 and maximum is 3071.0\n",
            "The shape of spleen_20.nii.gz  data is (512, 512, 168) minimum is -1024.0 and maximum is 1304.0\n",
            "The shape of spleen_21.nii.gz  data is (512, 512, 89) minimum is -1024.0 and maximum is 1483.0\n",
            "The shape of spleen_22.nii.gz  data is (512, 512, 148) minimum is -1024.0 and maximum is 1338.0\n",
            "The shape of spleen_24.nii.gz  data is (512, 512, 94) minimum is -1024.0 and maximum is 1508.0\n",
            "The shape of spleen_25.nii.gz  data is (512, 512, 87) minimum is -1024.0 and maximum is 3071.0\n",
            "The shape of spleen_26.nii.gz  data is (512, 512, 65) minimum is -1024.0 and maximum is 1423.0\n",
            "The shape of spleen_27.nii.gz  data is (512, 512, 119) minimum is -1024.0 and maximum is 2976.0\n",
            "The shape of spleen_28.nii.gz  data is (512, 512, 44) minimum is -1024.0 and maximum is 1467.0\n",
            "The shape of spleen_29.nii.gz  data is (512, 512, 103) minimum is -1024.0 and maximum is 1513.0\n",
            "The shape of spleen_3.nii.gz  data is (512, 512, 40) minimum is -1024.0 and maximum is 1346.0\n",
            "The shape of spleen_31.nii.gz  data is (512, 512, 56) minimum is -1024.0 and maximum is 1336.0\n",
            "The shape of spleen_32.nii.gz  data is (512, 512, 104) minimum is -1024.0 and maximum is 1444.0\n",
            "The shape of spleen_33.nii.gz  data is (512, 512, 83) minimum is -1024.0 and maximum is 2092.0\n",
            "The shape of spleen_38.nii.gz  data is (512, 512, 100) minimum is -1024.0 and maximum is 1940.0\n",
            "The shape of spleen_40.nii.gz  data is (512, 512, 93) minimum is -1024.0 and maximum is 1650.0\n",
            "The shape of spleen_41.nii.gz  data is (512, 512, 94) minimum is -1024.0 and maximum is 1349.0\n",
            "The shape of spleen_44.nii.gz  data is (512, 512, 92) minimum is -1024.0 and maximum is 3071.0\n",
            "The shape of spleen_45.nii.gz  data is (512, 512, 112) minimum is -1024.0 and maximum is 3071.0\n",
            "The shape of spleen_46.nii.gz  data is (512, 512, 99) minimum is -1024.0 and maximum is 1751.0\n",
            "The shape of spleen_47.nii.gz  data is (512, 512, 88) minimum is -1024.0 and maximum is 1413.0\n",
            "The shape of spleen_49.nii.gz  data is (512, 512, 61) minimum is -1024.0 and maximum is 3071.0\n",
            "The shape of spleen_52.nii.gz  data is (512, 512, 112) minimum is -1024.0 and maximum is 2002.0\n",
            "The shape of spleen_53.nii.gz  data is (512, 512, 156) minimum is -1024.0 and maximum is 1812.0\n",
            "The shape of spleen_56.nii.gz  data is (512, 512, 33) minimum is -1024.0 and maximum is 1619.0\n",
            "The shape of spleen_59.nii.gz  data is (512, 512, 50) minimum is -1024.0 and maximum is 1280.0\n",
            "The shape of spleen_6.nii.gz  data is (512, 512, 135) minimum is -1024.0 and maximum is 1252.0\n",
            "The shape of spleen_60.nii.gz  data is (512, 512, 97) minimum is -1024.0 and maximum is 1341.0\n",
            "The shape of spleen_61.nii.gz  data is (512, 512, 101) minimum is -1024.0 and maximum is 3071.0\n",
            "The shape of spleen_62.nii.gz  data is (512, 512, 80) minimum is -1024.0 and maximum is 1572.0\n",
            "The shape of spleen_63.nii.gz  data is (512, 512, 60) minimum is -1024.0 and maximum is 1369.0\n",
            "The shape of spleen_8.nii.gz  data is (512, 512, 31) minimum is -1024.0 and maximum is 1166.0\n",
            "The shape of spleen_9.nii.gz  data is (512, 512, 41) minimum is -1024.0 and maximum is 2922.0\n"
          ],
          "name": "stdout"
        }
      ]
    },
    {
      "cell_type": "markdown",
      "metadata": {
        "id": "rZEyCxvdzXqf",
        "colab_type": "text"
      },
      "source": [
        "There are 41 Training images 20 Testing images in spleen data"
      ]
    },
    {
      "cell_type": "code",
      "metadata": {
        "id": "70wl5pIcznCl",
        "colab_type": "code",
        "outputId": "87bd524a-2b0c-4e8d-ebb1-36dea91811b8",
        "colab": {
          "base_uri": "https://localhost:8080/",
          "height": 253
        }
      },
      "source": [
        "#Let us plot any of the image and its corresponding label images\n",
        "epi_img = nib.load(path2images+'spleen_10.nii.gz')\n",
        "epi_img_data = epi_img.get_fdata()\n",
        "epi_img_data.shape\n",
        "\n",
        "def show_slices(slices):\n",
        "# Function to display row of image slices\n",
        "  fig, axes = plt.subplots(1, len(slices))\n",
        "  for i, slice in enumerate(slices):\n",
        "    axes[i].imshow(slice.T, cmap=\"gray\", origin=\"lower\")\n",
        "    \n",
        "slice_0 = epi_img_data[256, :, :]\n",
        "slice_1 = epi_img_data[:, 256, :]\n",
        "slice_2 = epi_img_data[:, :, 27]\n",
        "show_slices([slice_0, slice_1, slice_2])\n",
        "plt.suptitle(\"Center slices for image\") "
      ],
      "execution_count": 0,
      "outputs": [
        {
          "output_type": "execute_result",
          "data": {
            "text/plain": [
              "Text(0.5, 0.98, 'Center slices for image')"
            ]
          },
          "metadata": {
            "tags": []
          },
          "execution_count": 9
        },
        {
          "output_type": "display_data",
          "data": {
            "image/png": "[encoded data removed]",
            "text/plain": [
              "<Figure size 432x288 with 3 Axes>"
            ]
          },
          "metadata": {
            "tags": []
          }
        }
      ]
    },
    {
      "cell_type": "code",
      "metadata": {
        "id": "FUtxOmQqzuzf",
        "colab_type": "code",
        "outputId": "d6ca7c02-57b4-4af4-b179-30aa6a1b122d",
        "colab": {
          "base_uri": "https://localhost:8080/",
          "height": 253
        }
      },
      "source": [
        "#Let us plot any of the image and its corresponding label images\n",
        "epi_img = nib.load(path2labels+'spleen_10.nii.gz')\n",
        "epi_img_data = epi_img.get_fdata()\n",
        "epi_img_data.shape\n",
        "\n",
        "def show_slices(slices):\n",
        "# Function to display row of image slices\n",
        "  fig, axes = plt.subplots(1, len(slices))\n",
        "  for i, slice in enumerate(slices):\n",
        "    axes[i].imshow(slice.T, cmap=\"gray\", origin=\"lower\")\n",
        "    \n",
        "slice_0 = epi_img_data[256, :, :]\n",
        "slice_1 = epi_img_data[:, 256, :]\n",
        "slice_2 = epi_img_data[:, :, 27]\n",
        "show_slices([slice_0, slice_1, slice_2])\n",
        "plt.suptitle(\"Center slices for image\") "
      ],
      "execution_count": 0,
      "outputs": [
        {
          "output_type": "execute_result",
          "data": {
            "text/plain": [
              "Text(0.5, 0.98, 'Center slices for image')"
            ]
          },
          "metadata": {
            "tags": []
          },
          "execution_count": 10
        },
        {
          "output_type": "display_data",
          "data": {
            "image/png": "[encoded data removed]",
            "text/plain": [
              "<Figure size 432x288 with 3 Axes>"
            ]
          },
          "metadata": {
            "tags": []
          }
        }
      ]
    }
  ]
}