{
  "nbformat": 4,
  "nbformat_minor": 0,
  "metadata": {
    "colab": {
      "name": "Spleen_preprocessing.ipynb",
      "provenance": [],
      "collapsed_sections": [],
      "toc_visible": true,
      "machine_shape": "hm"
    },
    "kernelspec": {
      "name": "python3",
      "display_name": "Python 3"
    },
    "accelerator": "GPU"
  },
  "cells": [
    {
      "cell_type": "markdown",
      "metadata": {
        "id": "bX79uCRDS7_z",
        "colab_type": "text"
      },
      "source": [
        "## SHUBHAM SHARMA\n",
        "### IIT BOMBAY\n",
        "This code is to get familiar with the dataset that we are using for volumetric segmentation. We'll go through the heart and spleen dataset here and will try to understand their shape and other features."
      ]
    },
    {
      "cell_type": "code",
      "metadata": {
        "id": "8pP-1IYZrAUS",
        "colab_type": "code",
        "colab": {}
      },
      "source": [
        "from google.colab import drive\n",
        "drive.mount('/content/gdrive')"
      ],
      "execution_count": 0,
      "outputs": []
    },
    {
      "cell_type": "code",
      "metadata": {
        "id": "QZLrrUUwrKsj",
        "colab_type": "code",
        "colab": {}
      },
      "source": [
        "# Importing the libraries\n",
        "import matplotlib.pyplot as plt\n",
        "import numpy as np\n",
        "# # Set numpy to print only 2 decimal digits for neatness\n",
        "# np.set_printoptions(precision=2, suppress=True)\n",
        "\n",
        "import os\n",
        "import nibabel as nib\n",
        "from scipy import ndimage as nd\n",
        "from tqdm import tqdm\n",
        "\n",
        "%matplotlib inline"
      ],
      "execution_count": 0,
      "outputs": []
    },
    {
      "cell_type": "markdown",
      "metadata": {
        "id": "f99YepU5yQVS",
        "colab_type": "text"
      },
      "source": [
        "**Let us  PROCESS the spleen data**"
      ]
    },
    {
      "cell_type": "code",
      "metadata": {
        "id": "pnZ13bX9sc5T",
        "colab_type": "code",
        "outputId": "583d32b6-9b02-452a-e313-119c45de254b",
        "colab": {
          "base_uri": "https://localhost:8080/",
          "height": 108
        }
      },
      "source": [
        "path2images='gdrive/My Drive/data_phase1/Spleen/imagesTr/'\n",
        "path2labels='gdrive/My Drive/data_phase1/Spleen/labelsTr/'\n",
        "list_of_images=os.listdir(path2images)\n",
        "list_of_labels=os.listdir(path2labels)\n",
        "print('Files in training:',list_of_images)\n",
        "print('Files in testing',list_of_labels)\n",
        "\n",
        "print(len(list_of_images))\n",
        "print(len(list_of_labels))"
      ],
      "execution_count": 0,
      "outputs": [
        {
          "output_type": "stream",
          "text": [
            "Files in training: ['._spleen_10.nii.gz', '._spleen_13.nii.gz', '._spleen_12.nii.gz', '._spleen_14.nii.gz', '._spleen_16.nii.gz', '._spleen_17.nii.gz', '._spleen_18.nii.gz', '._spleen_20.nii.gz', '._spleen_19.nii.gz', '._spleen_2.nii.gz', '._spleen_21.nii.gz', '._spleen_24.nii.gz', '._spleen_22.nii.gz', '._spleen_26.nii.gz', '._spleen_25.nii.gz', 'spleen_10.nii.gz', '._spleen_27.nii.gz', '._spleen_32.nii.gz', '._spleen_31.nii.gz', '._spleen_29.nii.gz', '._spleen_28.nii.gz', '._spleen_3.nii.gz', '._spleen_40.nii.gz', '._spleen_33.nii.gz', '._spleen_41.nii.gz', '._spleen_38.nii.gz', '._spleen_44.nii.gz', '._spleen_45.nii.gz', '._spleen_49.nii.gz', '._spleen_47.nii.gz', '._spleen_46.nii.gz', '._spleen_52.nii.gz', '._spleen_56.nii.gz', '._spleen_6.nii.gz', '._spleen_59.nii.gz', '._spleen_53.nii.gz', '._spleen_60.nii.gz', '._spleen_9.nii.gz', '._spleen_63.nii.gz', '._spleen_61.nii.gz', '._spleen_8.nii.gz', '._spleen_62.nii.gz', 'spleen_12.nii.gz', 'spleen_13.nii.gz', 'spleen_14.nii.gz', 'spleen_16.nii.gz', 'spleen_17.nii.gz', 'spleen_18.nii.gz', 'spleen_19.nii.gz', 'spleen_2.nii.gz', 'spleen_20.nii.gz', 'spleen_21.nii.gz', 'spleen_22.nii.gz', 'spleen_24.nii.gz', 'spleen_25.nii.gz', 'spleen_26.nii.gz', 'spleen_27.nii.gz', 'spleen_28.nii.gz', 'spleen_29.nii.gz', 'spleen_3.nii.gz', 'spleen_31.nii.gz', 'spleen_32.nii.gz', 'spleen_33.nii.gz', 'spleen_38.nii.gz', 'spleen_40.nii.gz', 'spleen_41.nii.gz', 'spleen_44.nii.gz', 'spleen_45.nii.gz', 'spleen_46.nii.gz', 'spleen_47.nii.gz', 'spleen_49.nii.gz', 'spleen_52.nii.gz', 'spleen_53.nii.gz', 'spleen_56.nii.gz', 'spleen_59.nii.gz', 'spleen_6.nii.gz', 'spleen_60.nii.gz', 'spleen_61.nii.gz', 'spleen_62.nii.gz', 'spleen_63.nii.gz', 'spleen_8.nii.gz', 'spleen_9.nii.gz']\n",
            "Files in testing ['._spleen_12.nii.gz', '._spleen_10.nii.gz', '._spleen_14.nii.gz', '._spleen_13.nii.gz', '._spleen_16.nii.gz', '._spleen_20.nii.gz', '._spleen_2.nii.gz', '._spleen_18.nii.gz', '._spleen_19.nii.gz', '._spleen_17.nii.gz', '._spleen_21.nii.gz', '._spleen_25.nii.gz', '._spleen_24.nii.gz', '._spleen_22.nii.gz', '._spleen_26.nii.gz', '._spleen_31.nii.gz', '._spleen_3.nii.gz', '._spleen_27.nii.gz', '._spleen_28.nii.gz', '._spleen_29.nii.gz', '._spleen_32.nii.gz', '._spleen_38.nii.gz', '._spleen_40.nii.gz', '._spleen_33.nii.gz', '._spleen_41.nii.gz', '._spleen_46.nii.gz', '._spleen_44.nii.gz', '._spleen_47.nii.gz', '._spleen_45.nii.gz', '._spleen_49.nii.gz', '._spleen_52.nii.gz', '._spleen_56.nii.gz', '._spleen_53.nii.gz', '._spleen_59.nii.gz', '._spleen_6.nii.gz', '._spleen_8.nii.gz', '._spleen_61.nii.gz', '._spleen_63.nii.gz', '._spleen_60.nii.gz', '._spleen_62.nii.gz', 'spleen_10.nii.gz', '._spleen_9.nii.gz', 'spleen_13.nii.gz', 'spleen_12.nii.gz', 'spleen_14.nii.gz', 'spleen_2.nii.gz', 'spleen_16.nii.gz', 'spleen_18.nii.gz', 'spleen_17.nii.gz', 'spleen_20.nii.gz', 'spleen_21.nii.gz', 'spleen_22.nii.gz', 'spleen_19.nii.gz', 'spleen_24.nii.gz', 'spleen_25.nii.gz', 'spleen_3.nii.gz', 'spleen_28.nii.gz', 'spleen_26.nii.gz', 'spleen_27.nii.gz', 'spleen_31.nii.gz', 'spleen_32.nii.gz', 'spleen_33.nii.gz', 'spleen_38.nii.gz', 'spleen_29.nii.gz', 'spleen_40.nii.gz', 'spleen_47.nii.gz', 'spleen_45.nii.gz', 'spleen_44.nii.gz', 'spleen_41.nii.gz', 'spleen_52.nii.gz', 'spleen_49.nii.gz', 'spleen_53.nii.gz', 'spleen_46.nii.gz', 'spleen_56.nii.gz', 'spleen_59.nii.gz', 'spleen_63.nii.gz', 'spleen_60.nii.gz', 'spleen_6.nii.gz', 'spleen_61.nii.gz', 'spleen_8.nii.gz', 'spleen_9.nii.gz', 'spleen_62.nii.gz']\n",
            "82\n",
            "82\n"
          ],
          "name": "stdout"
        }
      ]
    },
    {
      "cell_type": "code",
      "metadata": {
        "id": "Y1JVZ1mpytw8",
        "colab_type": "code",
        "outputId": "1b5aa20a-d53d-4942-e1a3-1062f21652f1",
        "colab": {
          "base_uri": "https://localhost:8080/",
          "height": 746
        }
      },
      "source": [
        "for i in range(len(list_of_images)):\n",
        "  if list_of_images[i][0]!='.':\n",
        "    x=list_of_images[i]\n",
        "    img = nib.load(path2images+x)\n",
        "    img_data = img.get_fdata()\n",
        "    print('The shape of',x , ' data is',img_data.shape,'minimum is',np.min(img_data),'and maximum is',np.max(img_data))"
      ],
      "execution_count": 0,
      "outputs": [
        {
          "output_type": "stream",
          "text": [
            "The shape of spleen_10.nii.gz  data is (512, 512, 55) minimum is -1024.0 and maximum is 3072.0\n",
            "The shape of spleen_12.nii.gz  data is (512, 512, 168) minimum is -1024.0 and maximum is 3072.0\n",
            "The shape of spleen_13.nii.gz  data is (512, 512, 77) minimum is -1024.0 and maximum is 1189.0\n",
            "The shape of spleen_14.nii.gz  data is (512, 512, 54) minimum is -1024.0 and maximum is 1846.0\n",
            "The shape of spleen_16.nii.gz  data is (512, 512, 61) minimum is -1024.0 and maximum is 1616.0\n",
            "The shape of spleen_17.nii.gz  data is (512, 512, 95) minimum is -1024.0 and maximum is 1964.0\n",
            "The shape of spleen_18.nii.gz  data is (512, 512, 164) minimum is -1024.0 and maximum is 2258.0\n",
            "The shape of spleen_19.nii.gz  data is (512, 512, 51) minimum is -1024.0 and maximum is 1372.0\n",
            "The shape of spleen_2.nii.gz  data is (512, 512, 90) minimum is -1024.0 and maximum is 3071.0\n",
            "The shape of spleen_20.nii.gz  data is (512, 512, 168) minimum is -1024.0 and maximum is 1304.0\n",
            "The shape of spleen_21.nii.gz  data is (512, 512, 89) minimum is -1024.0 and maximum is 1483.0\n",
            "The shape of spleen_22.nii.gz  data is (512, 512, 148) minimum is -1024.0 and maximum is 1338.0\n",
            "The shape of spleen_24.nii.gz  data is (512, 512, 94) minimum is -1024.0 and maximum is 1508.0\n",
            "The shape of spleen_25.nii.gz  data is (512, 512, 87) minimum is -1024.0 and maximum is 3071.0\n",
            "The shape of spleen_26.nii.gz  data is (512, 512, 65) minimum is -1024.0 and maximum is 1423.0\n",
            "The shape of spleen_27.nii.gz  data is (512, 512, 119) minimum is -1024.0 and maximum is 2976.0\n",
            "The shape of spleen_28.nii.gz  data is (512, 512, 44) minimum is -1024.0 and maximum is 1467.0\n",
            "The shape of spleen_29.nii.gz  data is (512, 512, 103) minimum is -1024.0 and maximum is 1513.0\n",
            "The shape of spleen_3.nii.gz  data is (512, 512, 40) minimum is -1024.0 and maximum is 1346.0\n",
            "The shape of spleen_31.nii.gz  data is (512, 512, 56) minimum is -1024.0 and maximum is 1336.0\n",
            "The shape of spleen_32.nii.gz  data is (512, 512, 104) minimum is -1024.0 and maximum is 1444.0\n",
            "The shape of spleen_33.nii.gz  data is (512, 512, 83) minimum is -1024.0 and maximum is 2092.0\n",
            "The shape of spleen_38.nii.gz  data is (512, 512, 100) minimum is -1024.0 and maximum is 1940.0\n",
            "The shape of spleen_40.nii.gz  data is (512, 512, 93) minimum is -1024.0 and maximum is 1650.0\n",
            "The shape of spleen_41.nii.gz  data is (512, 512, 94) minimum is -1024.0 and maximum is 1349.0\n",
            "The shape of spleen_44.nii.gz  data is (512, 512, 92) minimum is -1024.0 and maximum is 3071.0\n",
            "The shape of spleen_45.nii.gz  data is (512, 512, 112) minimum is -1024.0 and maximum is 3071.0\n",
            "The shape of spleen_46.nii.gz  data is (512, 512, 99) minimum is -1024.0 and maximum is 1751.0\n",
            "The shape of spleen_47.nii.gz  data is (512, 512, 88) minimum is -1024.0 and maximum is 1413.0\n",
            "The shape of spleen_49.nii.gz  data is (512, 512, 61) minimum is -1024.0 and maximum is 3071.0\n",
            "The shape of spleen_52.nii.gz  data is (512, 512, 112) minimum is -1024.0 and maximum is 2002.0\n",
            "The shape of spleen_53.nii.gz  data is (512, 512, 156) minimum is -1024.0 and maximum is 1812.0\n",
            "The shape of spleen_56.nii.gz  data is (512, 512, 33) minimum is -1024.0 and maximum is 1619.0\n",
            "The shape of spleen_59.nii.gz  data is (512, 512, 50) minimum is -1024.0 and maximum is 1280.0\n",
            "The shape of spleen_6.nii.gz  data is (512, 512, 135) minimum is -1024.0 and maximum is 1252.0\n",
            "The shape of spleen_60.nii.gz  data is (512, 512, 97) minimum is -1024.0 and maximum is 1341.0\n",
            "The shape of spleen_61.nii.gz  data is (512, 512, 101) minimum is -1024.0 and maximum is 3071.0\n",
            "The shape of spleen_62.nii.gz  data is (512, 512, 80) minimum is -1024.0 and maximum is 1572.0\n",
            "The shape of spleen_63.nii.gz  data is (512, 512, 60) minimum is -1024.0 and maximum is 1369.0\n",
            "The shape of spleen_8.nii.gz  data is (512, 512, 31) minimum is -1024.0 and maximum is 1166.0\n",
            "The shape of spleen_9.nii.gz  data is (512, 512, 41) minimum is -1024.0 and maximum is 2922.0\n"
          ],
          "name": "stdout"
        }
      ]
    },
    {
      "cell_type": "markdown",
      "metadata": {
        "id": "rZEyCxvdzXqf",
        "colab_type": "text"
      },
      "source": [
        "There are 41 Training images 20 Testing images in spleen data"
      ]
    },
    {
      "cell_type": "code",
      "metadata": {
        "id": "70wl5pIcznCl",
        "colab_type": "code",
        "colab": {}
      },
      "source": [
        "#Let us plot any of the image and its corresponding label images\n",
        "epi_img = nib.load(path2images+'spleen_10.nii.gz')\n",
        "epi_img_data = epi_img.get_fdata()\n",
        "epi_img_data.shape\n",
        "\n",
        "def show_slices(slices):\n",
        "# Function to display row of image slices\n",
        "  fig, axes = plt.subplots(1, len(slices))\n",
        "  for i, slice in enumerate(slices):\n",
        "    axes[i].imshow(slice.T, cmap=\"gray\", origin=\"lower\")\n",
        "    \n",
        "slice_0 = epi_img_data[256, :, :]\n",
        "slice_1 = epi_img_data[:, 256, :]\n",
        "slice_2 = epi_img_data[:, :, 27]\n",
        "show_slices([slice_0, slice_1, slice_2])\n",
        "plt.suptitle(\"Center slices for image\") "
      ],
      "execution_count": 0,
      "outputs": []
    },
    {
      "cell_type": "code",
      "metadata": {
        "id": "FUtxOmQqzuzf",
        "colab_type": "code",
        "outputId": "4632ac0e-3fd6-49b6-c9af-f51b629060f1",
        "colab": {
          "base_uri": "https://localhost:8080/",
          "height": 252
        }
      },
      "source": [
        "#Let us plot any of the image and its corresponding label images\n",
        "epi_img = nib.load(path2labels+'spleen_10.nii.gz')\n",
        "epi_img_data = epi_img.get_fdata()\n",
        "epi_img_data.shape\n",
        "\n",
        "def show_slices(slices):\n",
        "# Function to display row of image slices\n",
        "  fig, axes = plt.subplots(1, len(slices))\n",
        "  for i, slice in enumerate(slices):\n",
        "    axes[i].imshow(slice.T, cmap=\"gray\", origin=\"lower\")\n",
        "    \n",
        "slice_0 = epi_img_data[256, :, :]\n",
        "slice_1 = epi_img_data[:, 256, :]\n",
        "slice_2 = epi_img_data[:, :, 27]\n",
        "show_slices([slice_0, slice_1, slice_2])\n",
        "plt.suptitle(\"Center slices for image\") "
      ],
      "execution_count": 0,
      "outputs": [
        {
          "output_type": "execute_result",
          "data": {
            "text/plain": [
              "Text(0.5, 0.98, 'Center slices for image')"
            ]
          },
          "metadata": {
            "tags": []
          },
          "execution_count": 6
        },
        {
          "output_type": "display_data",
          "data": {
            "image/png": "[encoded data removed]",
            "text/plain": [
              "<Figure size 432x288 with 3 Axes>"
            ]
          },
          "metadata": {
            "tags": []
          }
        }
      ]
    },
    {
      "cell_type": "code",
      "metadata": {
        "id": "gOv2Jmt3rrcC",
        "colab_type": "code",
        "colab": {}
      },
      "source": [
        "#Function idea taken from https://stackoverflow.com/questions/18386302/resizing-a-3d-image-and-resampling\n",
        "\n",
        "# a = nib.load(path2images+'la_003.nii.gz') # nib is what I use to load the images\n",
        "# b = (512,512,128)\n",
        "\n",
        "\n",
        "def resize_image(a,b):\n",
        "  '''a is the image and b is the target size eg(320,320,128)'''\n",
        "\n",
        "  flash = a.get_data() # Access data as array (in this case memmap)\n",
        "\n",
        "  dsfactor = [w/float(f) for w,f in zip(b, flash.shape)]\n",
        "  downed = nd.interpolation.zoom(flash, zoom=dsfactor)\n",
        "  return downed"
      ],
      "execution_count": 0,
      "outputs": []
    },
    {
      "cell_type": "code",
      "metadata": {
        "id": "ScQh-ASurGVh",
        "colab_type": "code",
        "outputId": "2d5adbd1-4d90-4b3c-a9b8-240c6e65750c",
        "colab": {
          "base_uri": "https://localhost:8080/",
          "height": 90
        }
      },
      "source": [
        "b = (512,512,128)\n",
        "c=0\n",
        "for i in tqdm(range(len(list_of_images))):\n",
        "  if list_of_images[i][0]!='.':\n",
        "    \n",
        "    l=list_of_images[i]\n",
        "    img_X = nib.load(path2images+l)\n",
        "    downed_X=resize_image(img_X,b)\n",
        "    temp_X=np.reshape(downed_X,(1,downed_X.shape[0],downed_X.shape[1],downed_X.shape[2]))\n",
        "    \n",
        "    img_Y = nib.load(path2labels+l)\n",
        "    downed_Y=resize_image(img_Y,b)\n",
        "    temp_Y=np.reshape(downed_Y,(1,downed_Y.shape[0],downed_Y.shape[1],downed_Y.shape[2]))\n",
        "    \n",
        "    if c==0:\n",
        "      X=temp_X\n",
        "      Y=temp_Y\n",
        "    else:\n",
        "      X=np.concatenate((X, temp_X), axis=0)\n",
        "      Y=np.concatenate((Y, temp_Y), axis=0)\n",
        "    c+=1"
      ],
      "execution_count": 0,
      "outputs": [
        {
          "output_type": "stream",
          "text": [
            " 71%|███████   | 58/82 [10:52<15:30, 38.76s/it]/usr/local/lib/python3.6/dist-packages/scipy/ndimage/interpolation.py:611: UserWarning: From scipy 0.13.0, the output shape of zoom() is calculated with round() instead of int() - for these inputs the size of the returned array has changed.\n",
            "  \"the returned array has changed.\", UserWarning)\n",
            "100%|██████████| 82/82 [26:19<00:00, 38.21s/it]\n"
          ],
          "name": "stderr"
        }
      ]
    },
    {
      "cell_type": "code",
      "metadata": {
        "id": "VSNoBNR3r55h",
        "colab_type": "code",
        "outputId": "e8db3134-309a-46dd-bc81-c460ce2b464e",
        "colab": {
          "base_uri": "https://localhost:8080/",
          "height": 288
        }
      },
      "source": [
        "print(X.shape)\n",
        "print(Y.shape)\n",
        "\n",
        "downed=X[0]\n",
        "#Let us check this function:\n",
        "slice_0 = downed[160, :, :]\n",
        "slice_1 = downed[:, 160, :]\n",
        "slice_2 = downed[:, :, 60]\n",
        "show_slices([slice_0, slice_1, slice_2])\n",
        "plt.suptitle(\"Center slices for image\") "
      ],
      "execution_count": 0,
      "outputs": [
        {
          "output_type": "stream",
          "text": [
            "(41, 512, 512, 128)\n",
            "(41, 512, 512, 128)\n"
          ],
          "name": "stdout"
        },
        {
          "output_type": "execute_result",
          "data": {
            "text/plain": [
              "Text(0.5, 0.98, 'Center slices for image')"
            ]
          },
          "metadata": {
            "tags": []
          },
          "execution_count": 8
        },
        {
          "output_type": "display_data",
          "data": {
            "image/png": "[encoded data removed]",
            "text/plain": [
              "<Figure size 432x288 with 3 Axes>"
            ]
          },
          "metadata": {
            "tags": []
          }
        }
      ]
    },
    {
      "cell_type": "code",
      "metadata": {
        "id": "5b234Ij6sCpR",
        "colab_type": "code",
        "outputId": "cd8fddbc-636c-42f1-f276-e5626f4043df",
        "colab": {
          "base_uri": "https://localhost:8080/",
          "height": 252
        }
      },
      "source": [
        "downed=Y[0]\n",
        "#Let us check this function:\n",
        "slice_0 = downed[160, :, :]\n",
        "slice_1 = downed[:, 160, :]\n",
        "slice_2 = downed[:, :, 60]\n",
        "show_slices([slice_0, slice_1, slice_2])\n",
        "plt.suptitle(\"Center slices for image\") "
      ],
      "execution_count": 0,
      "outputs": [
        {
          "output_type": "execute_result",
          "data": {
            "text/plain": [
              "Text(0.5, 0.98, 'Center slices for image')"
            ]
          },
          "metadata": {
            "tags": []
          },
          "execution_count": 9
        },
        {
          "output_type": "display_data",
          "data": {
            "image/png": "[encoded data removed]",
            "text/plain": [
              "<Figure size 432x288 with 3 Axes>"
            ]
          },
          "metadata": {
            "tags": []
          }
        }
      ]
    },
    {
      "cell_type": "code",
      "metadata": {
        "id": "tpLlqZh5sF-6",
        "colab_type": "code",
        "colab": {}
      },
      "source": [
        "np.save('gdrive/My Drive/Phase 1 Project/X_spleen.npy',X)\n",
        "\n",
        "np.save('gdrive/My Drive/Phase 1 Project/Y_spleen.npy',Y)\n"
      ],
      "execution_count": 0,
      "outputs": []
    },
    {
      "cell_type": "code",
      "metadata": {
        "id": "PDMNCR6vwb6u",
        "colab_type": "code",
        "outputId": "8dfee803-9885-40a2-8b50-5df7f7ce1ad2",
        "colab": {
          "base_uri": "https://localhost:8080/",
          "height": 35
        }
      },
      "source": [
        "Y.shape"
      ],
      "execution_count": 0,
      "outputs": [
        {
          "output_type": "execute_result",
          "data": {
            "text/plain": [
              "(41, 512, 512, 128)"
            ]
          },
          "metadata": {
            "tags": []
          },
          "execution_count": 11
        }
      ]
    },
    {
      "cell_type": "code",
      "metadata": {
        "id": "BzFiwIFItt9k",
        "colab_type": "code",
        "colab": {}
      },
      "source": [
        "#Function to create label array for binary classification\n",
        "def binarylab(labels):\n",
        "    \n",
        "    #Define an Empty Array \n",
        "    x = np.zeros([length,width,height,classes],dtype=\"uint8\")\n",
        "    \n",
        "    #Read Each pixel label and put it into corresponding label plane\n",
        "    for i in range(length):\n",
        "      for j in range(width):\n",
        "        for k in range(height): \n",
        "          x[i,j,k,labels[i][j][k]]=1\n",
        "    \n",
        "    return x"
      ],
      "execution_count": 0,
      "outputs": []
    },
    {
      "cell_type": "code",
      "metadata": {
        "id": "zqzq4iQ_tu-C",
        "colab_type": "code",
        "outputId": "6e712117-2628-4b4e-e7d2-22ed8bbd9436",
        "colab": {
          "base_uri": "https://localhost:8080/",
          "height": 35
        }
      },
      "source": [
        "length,width,height,classes=512,512,128,2\n",
        "data_shape = length*width*height\n",
        "c=0\n",
        "for i in tqdm(range(Y.shape[0])):\n",
        "  temp1 = binarylab(Y[i])\n",
        "  temp2 = np.reshape(temp1,(1,data_shape,2))\n",
        "  if c==0:\n",
        "    Y_categorical=temp2\n",
        "  else:\n",
        "    Y_categorical=np.concatenate((Y_categorical, temp2), axis=0)\n",
        "  c+=1\n",
        "    "
      ],
      "execution_count": 0,
      "outputs": [
        {
          "output_type": "stream",
          "text": [
            "100%|██████████| 41/41 [12:46<00:00, 20.11s/it]\n"
          ],
          "name": "stderr"
        }
      ]
    },
    {
      "cell_type": "code",
      "metadata": {
        "id": "jN1CuGqct3oF",
        "colab_type": "code",
        "outputId": "8e134f5b-6965-44be-e934-2f051d0009d6",
        "colab": {
          "base_uri": "https://localhost:8080/",
          "height": 252
        }
      },
      "source": [
        "t=Y_categorical[0]\n",
        "t=t[:,1]\n",
        "t=t.reshape(length,width,height)\n",
        "slice_0 = t[160, :, :]\n",
        "slice_1 = t[:, 160, :]\n",
        "slice_2 = t[:, :, 60]\n",
        "show_slices([slice_0, slice_1, slice_2])\n",
        "plt.suptitle(\"Center slices for image\")"
      ],
      "execution_count": 0,
      "outputs": [
        {
          "output_type": "execute_result",
          "data": {
            "text/plain": [
              "Text(0.5, 0.98, 'Center slices for image')"
            ]
          },
          "metadata": {
            "tags": []
          },
          "execution_count": 14
        },
        {
          "output_type": "display_data",
          "data": {
            "image/png": "[encoded data removed]",
            "text/plain": [
              "<Figure size 432x288 with 3 Axes>"
            ]
          },
          "metadata": {
            "tags": []
          }
        }
      ]
    },
    {
      "cell_type": "code",
      "metadata": {
        "id": "7ZHwLy9Zt_Zv",
        "colab_type": "code",
        "colab": {}
      },
      "source": [
        "np.save('gdrive/My Drive/Phase 1 Project/Y_spleen_categorical.npy',Y_categorical)"
      ],
      "execution_count": 0,
      "outputs": []
    }
  ]
}