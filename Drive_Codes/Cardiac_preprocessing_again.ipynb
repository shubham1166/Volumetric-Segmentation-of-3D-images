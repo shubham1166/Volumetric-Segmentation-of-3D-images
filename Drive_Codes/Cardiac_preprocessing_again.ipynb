{
  "nbformat": 4,
  "nbformat_minor": 0,
  "metadata": {
    "colab": {
      "name": "Cardiac_preprocessing_again.ipynb",
      "provenance": [],
      "collapsed_sections": [],
      "toc_visible": true
    },
    "kernelspec": {
      "name": "python3",
      "display_name": "Python 3"
    },
    "accelerator": "GPU"
  },
  "cells": [
    {
      "cell_type": "markdown",
      "metadata": {
        "id": "bX79uCRDS7_z",
        "colab_type": "text"
      },
      "source": [
        "## SHUBHAM SHARMA\n",
        "### IIT BOMBAY\n",
        "This code is to get familiar with the dataset that we are using for volumetric segmentation. We'll go through the heart and spleen dataset here and will try to understand their shape and other features."
      ]
    },
    {
      "cell_type": "markdown",
      "metadata": {
        "id": "NL6wsx3cs5ns",
        "colab_type": "text"
      },
      "source": [
        "**Let us first see the cardiac data**"
      ]
    },
    {
      "cell_type": "code",
      "metadata": {
        "id": "J2eaWoz0PdGd",
        "colab_type": "code",
        "outputId": "231d4b9d-3055-4963-a2e5-76fb9ec378cf",
        "colab": {
          "base_uri": "https://localhost:8080/",
          "height": 120
        }
      },
      "source": [
        "from google.colab import drive\n",
        "drive.mount('/content/gdrive')"
      ],
      "execution_count": 0,
      "outputs": [
        {
          "output_type": "stream",
          "text": [
            "Go to this URL in a browser: https://accounts.google.com/o/oauth2/auth?client_id=947318989803-6bn6qk8qdgf4n4g3pfee6491hc0brc4i.apps.googleusercontent.com&redirect_uri=urn%3aietf%3awg%3aoauth%3a2.0%3aoob&response_type=code&scope=email%20https%3a%2f%2fwww.googleapis.com%2fauth%2fdocs.test%20https%3a%2f%2fwww.googleapis.com%2fauth%2fdrive%20https%3a%2f%2fwww.googleapis.com%2fauth%2fdrive.photos.readonly%20https%3a%2f%2fwww.googleapis.com%2fauth%2fpeopleapi.readonly\n",
            "\n",
            "Enter your authorization code:\n",
            "··········\n",
            "Mounted at /content/gdrive\n"
          ],
          "name": "stdout"
        }
      ]
    },
    {
      "cell_type": "code",
      "metadata": {
        "id": "18FO1lG1PA_S",
        "colab_type": "code",
        "colab": {}
      },
      "source": [
        "# Importing the libraries\n",
        "import matplotlib.pyplot as plt\n",
        "import numpy as np\n",
        "# # Set numpy to print only 2 decimal digits for neatness\n",
        "# np.set_printoptions(precision=2, suppress=True)\n",
        "\n",
        "import os\n",
        "import nibabel as nib\n",
        "from scipy import ndimage as nd\n",
        "from tqdm import tqdm\n",
        "\n",
        "%matplotlib inline"
      ],
      "execution_count": 0,
      "outputs": []
    },
    {
      "cell_type": "code",
      "metadata": {
        "id": "u8PKgqTQPYSw",
        "colab_type": "code",
        "outputId": "20ae9338-ef96-426a-fa4f-79b0a29d2943",
        "colab": {
          "base_uri": "https://localhost:8080/",
          "height": 103
        }
      },
      "source": [
        "path2images='gdrive/My Drive/data_phase1/Heart/imagesTr/'\n",
        "path2labels='gdrive/My Drive/data_phase1/Heart/labelsTr/'\n",
        "list_of_images=os.listdir(path2images)\n",
        "list_of_labels=os.listdir(path2labels)\n",
        "print('Files in training:',list_of_images)\n",
        "print('Files in testing',list_of_labels)\n",
        "################################\n",
        "print(len(list_of_images))\n",
        "print(len(list_of_labels))\n",
        "################################"
      ],
      "execution_count": 0,
      "outputs": [
        {
          "output_type": "stream",
          "text": [
            "Files in training: ['._la_029.nii.gz', 'la_003.nii.gz', 'la_004.nii.gz', 'la_005.nii.gz', 'la_007.nii.gz', 'la_009.nii.gz', 'la_010.nii.gz', 'la_011.nii.gz', 'la_014.nii.gz', 'la_016.nii.gz', 'la_017.nii.gz', 'la_018.nii.gz', 'la_019.nii.gz', 'la_020.nii.gz', 'la_021.nii.gz', 'la_022.nii.gz', 'la_023.nii.gz', 'la_024.nii.gz', 'la_026.nii.gz', 'la_029.nii.gz', 'la_030.nii.gz']\n",
            "Files in testing ['._la_014.nii.gz', 'la_003.nii.gz', 'la_005.nii.gz', 'la_004.nii.gz', '._la_029.nii.gz', 'la_007.nii.gz', 'la_016.nii.gz', 'la_009.nii.gz', 'la_011.nii.gz', 'la_014.nii.gz', 'la_010.nii.gz', 'la_019.nii.gz', 'la_018.nii.gz', 'la_017.nii.gz', 'la_021.nii.gz', 'la_020.nii.gz', 'la_022.nii.gz', 'la_024.nii.gz', 'la_026.nii.gz', 'la_023.nii.gz', 'la_029.nii.gz', 'la_030.nii.gz']\n",
            "21\n",
            "22\n"
          ],
          "name": "stdout"
        }
      ]
    },
    {
      "cell_type": "code",
      "metadata": {
        "id": "wnGcWc04uKk4",
        "colab_type": "code",
        "outputId": "870d0d68-1721-4b12-bbf9-b9ccb8f3c245",
        "colab": {
          "base_uri": "https://localhost:8080/",
          "height": 350
        }
      },
      "source": [
        "for i in range(len(list_of_images)):\n",
        "  if list_of_images[i][0]!='.':\n",
        "    x=list_of_images[i]\n",
        "    img = nib.load(path2images+x)\n",
        "    img_data = img.get_fdata()\n",
        "    print('The shape of',x , ' data is',img_data.shape,'minimum is',np.min(img_data),'and maximum is',np.max(img_data))"
      ],
      "execution_count": 0,
      "outputs": [
        {
          "output_type": "stream",
          "text": [
            "The shape of la_003.nii.gz  data is (320, 320, 130) minimum is 0.0 and maximum is 1999.0\n",
            "The shape of la_004.nii.gz  data is (320, 320, 110) minimum is 0.0 and maximum is 1811.0\n",
            "The shape of la_005.nii.gz  data is (320, 320, 120) minimum is 0.0 and maximum is 1888.0\n",
            "The shape of la_007.nii.gz  data is (320, 320, 130) minimum is 0.0 and maximum is 1873.0\n",
            "The shape of la_009.nii.gz  data is (320, 320, 100) minimum is 0.0 and maximum is 2171.0\n",
            "The shape of la_010.nii.gz  data is (320, 320, 120) minimum is 0.0 and maximum is 1907.0\n",
            "The shape of la_011.nii.gz  data is (320, 320, 120) minimum is 0.0 and maximum is 1979.0\n",
            "The shape of la_014.nii.gz  data is (320, 320, 120) minimum is 0.0 and maximum is 2058.0\n",
            "The shape of la_016.nii.gz  data is (320, 320, 90) minimum is 0.0 and maximum is 2017.0\n",
            "The shape of la_017.nii.gz  data is (320, 320, 120) minimum is 0.0 and maximum is 1937.0\n",
            "The shape of la_018.nii.gz  data is (320, 320, 122) minimum is 0.0 and maximum is 2095.0\n",
            "The shape of la_019.nii.gz  data is (320, 320, 100) minimum is 0.0 and maximum is 1662.0\n",
            "The shape of la_020.nii.gz  data is (320, 320, 110) minimum is 0.0 and maximum is 2005.0\n",
            "The shape of la_021.nii.gz  data is (320, 320, 100) minimum is 0.0 and maximum is 1852.0\n",
            "The shape of la_022.nii.gz  data is (320, 320, 110) minimum is 0.0 and maximum is 1901.0\n",
            "The shape of la_023.nii.gz  data is (320, 320, 110) minimum is 0.0 and maximum is 1999.0\n",
            "The shape of la_024.nii.gz  data is (320, 320, 120) minimum is 0.0 and maximum is 2060.0\n",
            "The shape of la_026.nii.gz  data is (320, 320, 120) minimum is 0.0 and maximum is 1888.0\n",
            "The shape of la_029.nii.gz  data is (320, 320, 109) minimum is 0.0 and maximum is 2196.0\n",
            "The shape of la_030.nii.gz  data is (320, 320, 110) minimum is 0.0 and maximum is 2045.0\n"
          ],
          "name": "stdout"
        }
      ]
    },
    {
      "cell_type": "markdown",
      "metadata": {
        "id": "oNF9BGd-yxNe",
        "colab_type": "text"
      },
      "source": [
        "There are 20 training images and 10 testing images in the cardiac data"
      ]
    },
    {
      "cell_type": "code",
      "metadata": {
        "id": "bgkIKO5tXMbe",
        "colab_type": "code",
        "outputId": "f59ab19b-087b-4fc2-8d2d-ba7ab49a8169",
        "colab": {
          "base_uri": "https://localhost:8080/",
          "height": 252
        }
      },
      "source": [
        "\n",
        "#Let us plot any of the image and its corresponding label images\n",
        "epi_img = nib.load(path2images+'la_003.nii.gz')\n",
        "epi_img_data = epi_img.get_fdata()\n",
        "epi_img_data.shape\n",
        "\n",
        "def show_slices(slices):\n",
        "# Function to display row of image slices\n",
        "  fig, axes = plt.subplots(1, len(slices))\n",
        "  for i, slice in enumerate(slices):\n",
        "    axes[i].imshow(slice.T, cmap=\"gray\", origin=\"lower\")\n",
        "    \n",
        "slice_0 = epi_img_data[160, :, :]\n",
        "slice_1 = epi_img_data[:, 160, :]\n",
        "slice_2 = epi_img_data[:, :, 65]\n",
        "show_slices([slice_0, slice_1, slice_2])\n",
        "plt.suptitle(\"Center slices for image\")  "
      ],
      "execution_count": 0,
      "outputs": [
        {
          "output_type": "execute_result",
          "data": {
            "text/plain": [
              "Text(0.5, 0.98, 'Center slices for image')"
            ]
          },
          "metadata": {
            "tags": []
          },
          "execution_count": 9
        },
        {
          "output_type": "display_data",
          "data": {
            "image/png": "[encoded data removed]",
            "text/plain": [
              "<Figure size 432x288 with 3 Axes>"
            ]
          },
          "metadata": {
            "tags": []
          }
        }
      ]
    },
    {
      "cell_type": "code",
      "metadata": {
        "id": "TvblgdoWng4v",
        "colab_type": "code",
        "colab": {}
      },
      "source": [
        "epi_img = nib.load(path2labels+'la_003.nii.gz')\n",
        "epi_img_data = epi_img.get_fdata()\n",
        "print('The shape of the image is:',epi_img_data.shape)\n",
        "\n",
        "    \n",
        "slice_0 = epi_img_data[160, :, :]\n",
        "slice_1 = epi_img_data[:, 160, :]\n",
        "slice_2 = epi_img_data[:, :, 65]\n",
        "show_slices([slice_0, slice_1, slice_2])\n",
        "plt.suptitle(\"Center slices for image\")  # doctest: +SKIP\n",
        "print(np.sum(slice_1))"
      ],
      "execution_count": 0,
      "outputs": []
    },
    {
      "cell_type": "code",
      "metadata": {
        "id": "CfaUgLKNbC6b",
        "colab_type": "code",
        "colab": {}
      },
      "source": [
        "#Function idea taken from https://stackoverflow.com/questions/18386302/resizing-a-3d-image-and-resampling\n",
        "\n",
        "# a = nib.load(path2images+'la_003.nii.gz') # nib is what I use to load the images\n",
        "# b = (128,128,128)\n",
        "\n",
        "\n",
        "def resize_image(a,b):\n",
        "  '''a is the image and b is the target size eg(320,320,128)'''\n",
        "\n",
        "  flash = a.get_data() # Access data as array (in this case memmap)\n",
        "\n",
        "  dsfactor = [w/float(f) for w,f in zip(b, flash.shape)]\n",
        "  downed = nd.interpolation.zoom(flash, zoom=dsfactor)\n",
        "  return downed"
      ],
      "execution_count": 0,
      "outputs": []
    },
    {
      "cell_type": "code",
      "metadata": {
        "id": "HtlXkS6bc4Rm",
        "colab_type": "code",
        "outputId": "3748cfc2-a1d0-4f95-fc58-cf46e54819b8",
        "colab": {
          "base_uri": "https://localhost:8080/",
          "height": 252
        }
      },
      "source": [
        "# a = nib.load(path2images+'la_003.nii.gz') # nib is what I use to load the images\n",
        "a = nib.load(path2images+'la_016.nii.gz') # nib is what I use to load the images\n",
        "# b = nib.load(path2images+'la_005.nii.gz')\n",
        "b=(160 , 160, 64)\n",
        "\n",
        "downed=resize_image(a,b)\n",
        "#Let us check this function:\n",
        "slice_0 = downed[80, :, :]\n",
        "slice_1 = downed[:, 80, :]\n",
        "slice_2 = downed[:, :, 32]\n",
        "show_slices([slice_0, slice_1, slice_2])\n",
        "plt.suptitle(\"Center slices for image\")  # doctest: +SKIP"
      ],
      "execution_count": 0,
      "outputs": [
        {
          "output_type": "execute_result",
          "data": {
            "text/plain": [
              "Text(0.5, 0.98, 'Center slices for image')"
            ]
          },
          "metadata": {
            "tags": []
          },
          "execution_count": 10
        },
        {
          "output_type": "display_data",
          "data": {
            "image/png": "[encoded data removed]",
            "text/plain": [
              "<Figure size 432x288 with 3 Axes>"
            ]
          },
          "metadata": {
            "tags": []
          }
        }
      ]
    },
    {
      "cell_type": "code",
      "metadata": {
        "id": "gnXBovbZe3aq",
        "colab_type": "code",
        "outputId": "4b2e6378-47ed-4e88-d5cb-0a7dbe84d2ee",
        "colab": {
          "base_uri": "https://localhost:8080/",
          "height": 252
        }
      },
      "source": [
        "a = nib.load(path2labels+'la_003.nii.gz') # nib is what I use to load the images\n",
        "b=(160 , 160, 64)\n",
        "\n",
        "downed=resize_image(a,b)\n",
        "#Let us check this function:\n",
        "slice_0 = downed[80, :, :]\n",
        "slice_1 = downed[:, 80, :]\n",
        "slice_2 = downed[:, :, 32]\n",
        "show_slices([slice_0, slice_1, slice_2])\n",
        "plt.suptitle(\"Center slices for image\") "
      ],
      "execution_count": 0,
      "outputs": [
        {
          "output_type": "execute_result",
          "data": {
            "text/plain": [
              "Text(0.5, 0.98, 'Center slices for image')"
            ]
          },
          "metadata": {
            "tags": []
          },
          "execution_count": 11
        },
        {
          "output_type": "display_data",
          "data": {
            "image/png": "[encoded data removed]",
            "text/plain": [
              "<Figure size 432x288 with 3 Axes>"
            ]
          },
          "metadata": {
            "tags": []
          }
        }
      ]
    },
    {
      "cell_type": "markdown",
      "metadata": {
        "id": "s6Pf-FeRfvyi",
        "colab_type": "text"
      },
      "source": [
        "#### Now that we have seen that the function is running fine, let us convert every image in the format we want it to be and save it in .npy format"
      ]
    },
    {
      "cell_type": "code",
      "metadata": {
        "id": "Z1DzFY7NfH7a",
        "colab_type": "code",
        "outputId": "4676277c-b734-48b3-eb05-085a39e65e1b",
        "colab": {
          "base_uri": "https://localhost:8080/",
          "height": 33
        }
      },
      "source": [
        "b = (160 , 160, 64)\n",
        "#converting every image to (160 , 160, 64)\n",
        "c=0\n",
        "for i in tqdm(range(len(list_of_images))):\n",
        "  if list_of_images[i][0]!='.':\n",
        "    \n",
        "    l=list_of_images[i]\n",
        "    img_X = nib.load(path2images+l)\n",
        "    downed_X=resize_image(img_X,b)\n",
        "    temp_X=np.reshape(downed_X,(1,downed_X.shape[0],downed_X.shape[1],downed_X.shape[2]))\n",
        "    \n",
        "    img_Y = nib.load(path2labels+l)\n",
        "    downed_Y=resize_image(img_Y,b)\n",
        "    temp_Y=np.reshape(downed_Y,(1,downed_Y.shape[0],downed_Y.shape[1],downed_Y.shape[2]))\n",
        "    \n",
        "    if c==0:\n",
        "      X=temp_X\n",
        "      Y=temp_Y\n",
        "    else:\n",
        "      X=np.concatenate((X, temp_X), axis=0)\n",
        "      Y=np.concatenate((Y, temp_Y), axis=0)\n",
        "    c+=1"
      ],
      "execution_count": 0,
      "outputs": [
        {
          "output_type": "stream",
          "text": [
            "100%|██████████| 21/21 [01:36<00:00,  5.50s/it]\n"
          ],
          "name": "stderr"
        }
      ]
    },
    {
      "cell_type": "code",
      "metadata": {
        "id": "kVotY-y6fNBK",
        "colab_type": "code",
        "outputId": "d7a3bfab-15b7-41b6-d844-48c6dfe59828",
        "colab": {
          "base_uri": "https://localhost:8080/",
          "height": 285
        }
      },
      "source": [
        "print(X.shape)\n",
        "print(Y.shape)\n",
        "\n",
        "downed=X[1]\n",
        "#Let us check this function:\n",
        "slice_0 = downed[80, :, :]\n",
        "slice_1 = downed[:, 80, :]\n",
        "slice_2 = downed[:, :, 32]\n",
        "show_slices([slice_0, slice_1, slice_2])\n",
        "plt.suptitle(\"Center slices for image\") "
      ],
      "execution_count": 0,
      "outputs": [
        {
          "output_type": "stream",
          "text": [
            "(20, 160, 160, 64)\n",
            "(20, 160, 160, 64)\n"
          ],
          "name": "stdout"
        },
        {
          "output_type": "execute_result",
          "data": {
            "text/plain": [
              "Text(0.5, 0.98, 'Center slices for image')"
            ]
          },
          "metadata": {
            "tags": []
          },
          "execution_count": 14
        },
        {
          "output_type": "display_data",
          "data": {
            "image/png": "[encoded data removed]",
            "text/plain": [
              "<Figure size 432x288 with 3 Axes>"
            ]
          },
          "metadata": {
            "tags": []
          }
        }
      ]
    },
    {
      "cell_type": "code",
      "metadata": {
        "id": "Gp5qnBNIhlko",
        "colab_type": "code",
        "outputId": "9f108a0e-2365-4dd9-ffa3-3988eabb02b6",
        "colab": {
          "base_uri": "https://localhost:8080/",
          "height": 252
        }
      },
      "source": [
        "downed=Y[1]\n",
        "#Let us check this function:\n",
        "slice_0 = downed[80, :, :]\n",
        "slice_1 = downed[:, 80, :]\n",
        "slice_2 = downed[:, :, 32]\n",
        "show_slices([slice_0, slice_1, slice_2])\n",
        "plt.suptitle(\"Center slices for image\") "
      ],
      "execution_count": 0,
      "outputs": [
        {
          "output_type": "execute_result",
          "data": {
            "text/plain": [
              "Text(0.5, 0.98, 'Center slices for image')"
            ]
          },
          "metadata": {
            "tags": []
          },
          "execution_count": 15
        },
        {
          "output_type": "display_data",
          "data": {
            "image/png": "[encoded data removed]",
            "text/plain": [
              "<Figure size 432x288 with 3 Axes>"
            ]
          },
          "metadata": {
            "tags": []
          }
        }
      ]
    },
    {
      "cell_type": "code",
      "metadata": {
        "id": "pWcuYoHdkYV9",
        "colab_type": "code",
        "colab": {}
      },
      "source": [
        "np.save('gdrive/My Drive/Phase 1 Project/X_cardiac_type2.npy',X)\n",
        "np.save('gdrive/My Drive/Phase 1 Project/Y_cardiac_type2.npy',Y)\n"
      ],
      "execution_count": 0,
      "outputs": []
    },
    {
      "cell_type": "code",
      "metadata": {
        "id": "9JvtZhMndjNd",
        "colab_type": "code",
        "colab": {}
      },
      "source": [
        "# Y=np.load('gdrive/My Drive/Phase 1 Project/Y_cardiac.npy')"
      ],
      "execution_count": 0,
      "outputs": []
    },
    {
      "cell_type": "code",
      "metadata": {
        "id": "KR5aEH_CViT0",
        "colab_type": "code",
        "outputId": "bbb89262-98d8-48a0-d254-7f4c46db6f50",
        "colab": {
          "base_uri": "https://localhost:8080/",
          "height": 35
        }
      },
      "source": [
        "# Y.shape"
      ],
      "execution_count": 0,
      "outputs": [
        {
          "output_type": "execute_result",
          "data": {
            "text/plain": [
              "(20, 320, 320, 128)"
            ]
          },
          "metadata": {
            "tags": []
          },
          "execution_count": 53
        }
      ]
    },
    {
      "cell_type": "code",
      "metadata": {
        "id": "GILEuvuIVknS",
        "colab_type": "code",
        "colab": {}
      },
      "source": [
        "#Function to create label array for binary classification\n",
        "def binarylab(labels):\n",
        "    \n",
        "    #Define an Empty Array \n",
        "    x = np.zeros([length,width,height,classes],dtype=\"uint8\")\n",
        "    \n",
        "    #Read Each pixel label and put it into corresponding label plane\n",
        "    for i in range(length):\n",
        "      for j in range(width):\n",
        "        for k in range(height): \n",
        "          x[i,j,k,labels[i][j][k]]=1\n",
        "    \n",
        "    return x"
      ],
      "execution_count": 0,
      "outputs": []
    },
    {
      "cell_type": "code",
      "metadata": {
        "id": "L_28KyLUWa0S",
        "colab_type": "code",
        "colab": {}
      },
      "source": [
        "length,width,height,classes=160, 160 ,64 ,2\n",
        "data_shape = length*width*height\n",
        "z= binarylab(Y[0])"
      ],
      "execution_count": 0,
      "outputs": []
    },
    {
      "cell_type": "code",
      "metadata": {
        "id": "JoIP0YrZtM97",
        "colab_type": "code",
        "outputId": "b5c3041b-5283-4a89-b164-d06d86eaac3d",
        "colab": {
          "base_uri": "https://localhost:8080/",
          "height": 33
        }
      },
      "source": [
        "z.shape"
      ],
      "execution_count": 0,
      "outputs": [
        {
          "output_type": "execute_result",
          "data": {
            "text/plain": [
              "(160, 160, 64, 2)"
            ]
          },
          "metadata": {
            "tags": []
          },
          "execution_count": 20
        }
      ]
    },
    {
      "cell_type": "code",
      "metadata": {
        "id": "_0ScMDiHW4Sh",
        "colab_type": "code",
        "outputId": "705dbcd1-61e5-489d-b804-0288dd339cfc",
        "colab": {
          "base_uri": "https://localhost:8080/",
          "height": 252
        }
      },
      "source": [
        "downed=Y[3]\n",
        "#Let us check this function:\n",
        "slice_0 = downed[160, :, :]\n",
        "slice_1 = downed[:, 160, :]\n",
        "slice_2 = downed[:, :, 60]\n",
        "show_slices([slice_0, slice_1, slice_2])\n",
        "plt.suptitle(\"Center slices for image\") "
      ],
      "execution_count": 0,
      "outputs": [
        {
          "output_type": "execute_result",
          "data": {
            "text/plain": [
              "Text(0.5, 0.98, 'Center slices for image')"
            ]
          },
          "metadata": {
            "tags": []
          },
          "execution_count": 21
        },
        {
          "output_type": "display_data",
          "data": {
            "image/png": "[encoded data removed]",
            "text/plain": [
              "<Figure size 432x288 with 3 Axes>"
            ]
          },
          "metadata": {
            "tags": []
          }
        }
      ]
    },
    {
      "cell_type": "code",
      "metadata": {
        "id": "QS_yVWq8XGKB",
        "colab_type": "code",
        "outputId": "aea91bff-454a-4527-9596-fcff39b648bc",
        "colab": {
          "base_uri": "https://localhost:8080/",
          "height": 252
        }
      },
      "source": [
        "downed=z[:,:,:,1]\n",
        "#Let us check this function:\n",
        "slice_0 = downed[160, :, :]\n",
        "slice_1 = downed[:, 160, :]\n",
        "slice_2 = downed[:, :, 60]\n",
        "show_slices([slice_0, slice_1, slice_2])\n",
        "plt.suptitle(\"Center slices for image\") "
      ],
      "execution_count": 0,
      "outputs": [
        {
          "output_type": "execute_result",
          "data": {
            "text/plain": [
              "Text(0.5, 0.98, 'Center slices for image')"
            ]
          },
          "metadata": {
            "tags": []
          },
          "execution_count": 57
        },
        {
          "output_type": "display_data",
          "data": {
            "image/png": "[encoded data removed]",
            "text/plain": [
              "<Figure size 432x288 with 3 Axes>"
            ]
          },
          "metadata": {
            "tags": []
          }
        }
      ]
    },
    {
      "cell_type": "code",
      "metadata": {
        "id": "iepuu7oZXh0h",
        "colab_type": "code",
        "outputId": "d542cb28-804e-458e-ecbc-cf535f613bae",
        "colab": {
          "base_uri": "https://localhost:8080/",
          "height": 33
        }
      },
      "source": [
        "length,width,height,classes = 160, 160 ,64 ,2\n",
        "data_shape = length*width*height\n",
        "c=0\n",
        "for i in tqdm(range(Y.shape[0])):\n",
        "  temp1 = binarylab(Y[i])\n",
        "  temp2 = np.reshape(temp1,(1,data_shape,2))\n",
        "  if c==0:\n",
        "    Y_categorical=temp2\n",
        "  else:\n",
        "    Y_categorical=np.concatenate((Y_categorical, temp2), axis=0)\n",
        "  c+=1\n",
        "    \n",
        "  "
      ],
      "execution_count": 0,
      "outputs": [
        {
          "output_type": "stream",
          "text": [
            "100%|██████████| 20/20 [00:23<00:00,  1.20s/it]\n"
          ],
          "name": "stderr"
        }
      ]
    },
    {
      "cell_type": "code",
      "metadata": {
        "id": "70qd-xU3tmvr",
        "colab_type": "code",
        "outputId": "31107e85-e6ff-430d-8f7e-00620117adb0",
        "colab": {
          "base_uri": "https://localhost:8080/",
          "height": 33
        }
      },
      "source": [
        "Y_categorical.shape"
      ],
      "execution_count": 0,
      "outputs": [
        {
          "output_type": "execute_result",
          "data": {
            "text/plain": [
              "(20, 1638400, 2)"
            ]
          },
          "metadata": {
            "tags": []
          },
          "execution_count": 24
        }
      ]
    },
    {
      "cell_type": "code",
      "metadata": {
        "id": "navfTYrxbWio",
        "colab_type": "code",
        "colab": {}
      },
      "source": [
        "t=Y_categorical[3]\n",
        "t=t[:,1]\n",
        "t=t.reshape(length,width,height)\n",
        "slice_0 = t[160, :, :]\n",
        "slice_1 = t[:, 160, :]\n",
        "slice_2 = t[:, :, 60]\n",
        "show_slices([slice_0, slice_1, slice_2])\n",
        "plt.suptitle(\"Center slices for image\") "
      ],
      "execution_count": 0,
      "outputs": []
    },
    {
      "cell_type": "code",
      "metadata": {
        "id": "5jBVt-0KeO0I",
        "colab_type": "code",
        "colab": {}
      },
      "source": [
        "np.save('gdrive/My Drive/Phase 1 Project/Y_cardiac_categorical_type2.npy',Y_categorical)"
      ],
      "execution_count": 0,
      "outputs": []
    },
    {
      "cell_type": "code",
      "metadata": {
        "id": "ORv_bvX8fRD2",
        "colab_type": "code",
        "colab": {}
      },
      "source": [
        ""
      ],
      "execution_count": 0,
      "outputs": []
    }
  ]
}