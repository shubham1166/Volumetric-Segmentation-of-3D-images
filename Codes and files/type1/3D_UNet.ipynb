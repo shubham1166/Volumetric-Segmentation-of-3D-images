{
 "cells": [
  {
   "cell_type": "markdown",
   "metadata": {
    "colab_type": "text",
    "id": "Gd2nmfhQJg70"
   },
   "source": [
    "## SHUBHAM SHARMA\n",
    "### IIT BOMBAY\n",
    "This code is for the implimentation of 3D U-Net"
   ]
  },
  {
   "cell_type": "code",
   "execution_count": 0,
   "metadata": {
    "colab": {
     "base_uri": "https://localhost:8080/",
     "height": 35
    },
    "colab_type": "code",
    "id": "SlTS3QH5K-EY",
    "outputId": "db6442d0-e82f-434c-eeee-c3bfce39e96a"
   },
   "outputs": [
    {
     "name": "stdout",
     "output_type": "stream",
     "text": [
      "Drive already mounted at /content/gdrive; to attempt to forcibly remount, call drive.mount(\"/content/gdrive\", force_remount=True).\n"
     ]
    }
   ],
   "source": [
    "from google.colab import drive\n",
    "drive.mount('/content/gdrive')"
   ]
  },
  {
   "cell_type": "code",
   "execution_count": 0,
   "metadata": {
    "colab": {
     "base_uri": "https://localhost:8080/",
     "height": 35
    },
    "colab_type": "code",
    "id": "q7rtFNbGGTKv",
    "outputId": "ac92667e-ebd1-4bbc-8956-17d0717243c1"
   },
   "outputs": [
    {
     "name": "stderr",
     "output_type": "stream",
     "text": [
      "Using TensorFlow backend.\n"
     ]
    }
   ],
   "source": [
    "#Importing libraries\n",
    "import numpy as np\n",
    "from sklearn.model_selection import train_test_split\n",
    "import matplotlib.pyplot as plt\n",
    "\n",
    "#######################\n",
    "#For archtecture\n",
    "from keras.layers import Input,Conv3D,MaxPooling3D,BatchNormalization,Conv3DTranspose,concatenate,Reshape,Permute,Activation\n",
    "from keras.models import Model\n",
    "import keras.backend as K\n",
    "from keras.callbacks import ModelCheckpoint\n",
    "from keras.optimizers import adam\n",
    "\n",
    "#######################\n",
    "#snippit\n",
    "import tensorflow as tf\n",
    "from keras.backend.tensorflow_backend import set_session\n",
    "#from FirstPackage.Network import net_1\n",
    "config = tf.ConfigProto()\n",
    "config.gpu_options.allow_growth = True\n",
    "config.gpu_options.per_process_gpu_memory_fraction = 0.85\n",
    "set_session(tf.Session(config=config))"
   ]
  },
  {
   "cell_type": "markdown",
   "metadata": {
    "colab_type": "text",
    "id": "f2YKXT1QJtzh"
   },
   "source": [
    "##### Let us first define the architecture of the network"
   ]
  },
  {
   "cell_type": "code",
   "execution_count": 0,
   "metadata": {
    "colab": {},
    "colab_type": "code",
    "id": "Fxo0cKB6HJdk"
   },
   "outputs": [],
   "source": [
    "K.set_image_data_format('channels_first')#For channel first\n",
    "\n",
    "def U_Net(length,width, height, depth, classes=2,weightsPath=None):\n",
    "    '''\n",
    "    Considering the inputs to be channel first\n",
    "    if the imgae is (1,512,512,120)\n",
    "    then length=512,width=512,height=120,depth=1 , depth tells about the different channels\n",
    "    '''\n",
    "    data_shape = length*width*height\n",
    "    bn_flag=True #Make this flag False in case of testing\n",
    "    \n",
    "    inputs = Input((depth,length,width, height))\n",
    "    conv1 = Conv3D(32, (3, 3, 3), activation='relu', padding='same')(inputs)\n",
    "    conv1 = BatchNormalization(axis=1)(conv1,training=bn_flag)\n",
    "    conv1 = Conv3D(32, (3, 3, 3), activation='relu', padding='same')(conv1)\n",
    "    conv1 = BatchNormalization(axis=1)(conv1,training=bn_flag)\n",
    "    pool1 = MaxPooling3D(pool_size=(2, 2, 2))(conv1)\n",
    "    \n",
    "    \n",
    "    \n",
    "#     conv2 = Conv3D(64, (3, 3, 3), activation='relu', padding='same')(pool1)\n",
    "#     conv2 = BatchNormalization(axis=1)(conv2,training=bn_flag)\n",
    "#     conv2 = Conv3D(64, (3, 3, 3), activation='relu', padding='same')(conv2)\n",
    "#     conv2 = BatchNormalization(axis=1)(conv2,training=bn_flag)\n",
    "#     pool2 = MaxPooling3D(pool_size=(2, 2, 2))(conv2)\n",
    "\n",
    "#     conv3 = Conv3D(128, (3, 3, 3), activation='relu', padding='same')(pool2)\n",
    "#     conv3 = BatchNormalization(axis=1)(conv3,training=bn_flag)\n",
    "#     conv3 = Conv3D(128, (3, 3, 3), activation='relu', padding='same')(conv3)\n",
    "#     conv3 = BatchNormalization(axis=1)(conv3,training=bn_flag)\n",
    "#     pool3 = MaxPooling3D(pool_size=(2, 2, 2))(conv3)\n",
    "    \n",
    "#     conv4 = Conv3D(256, (3, 3, 3), activation='relu', padding='same')(pool3)\n",
    "#     conv4 = BatchNormalization(axis=1)(conv4,training=bn_flag)\n",
    "#     conv4 = Conv3D(256, (3, 3, 3), activation='relu', padding='same')(conv4)\n",
    "#     conv4 = BatchNormalization(axis=1)(conv4,training=bn_flag)\n",
    "#     pool4 = MaxPooling3D(pool_size=(2, 2, 2))(conv4)\n",
    "    \n",
    "#     conv5 = Conv3D(512, (3, 3, 3), activation='relu', padding='same')(pool4)\n",
    "#     conv5 = Conv3D(512, (3, 3, 3), activation='relu', padding='same')(conv5)\n",
    "\n",
    "    conv5 = Conv3D(512, (3, 3, 3), activation='relu', padding='same')(pool1)\n",
    "    conv5 = Conv3D(512, (3, 3, 3), activation='relu', padding='same')(conv5)\n",
    "\n",
    "#     up6 = concatenate([Conv3DTranspose(256, (2, 2, 2), strides=(2, 2, 2), padding='same')(conv5), conv4], axis=1)\n",
    "#     conv6 = Conv3D(256, (3, 3, 3), activation='relu', padding='same')(up6)\n",
    "#     conv6 = Conv3D(256, (3, 3, 3), activation='relu', padding='same')(conv6)\n",
    "    \n",
    "#     up7 = concatenate([Conv3DTranspose(128, (2, 2, 2), strides=(2, 2, 2), padding='same')(conv6), conv3], axis=1)\n",
    "#     conv7 = Conv3D(128, (3, 3, 3), activation='relu', padding='same')(up7)\n",
    "#     conv7 = Conv3D(128, (3, 3, 3), activation='relu', padding='same')(conv7)\n",
    "    \n",
    "#     up8 = concatenate([Conv3DTranspose(64, (2, 2, 2), strides=(2, 2, 2), padding='same')(conv7), conv2], axis=1)\n",
    "#     conv8 = Conv3D(64, (3, 3, 3), activation='relu', padding='same')(up8)\n",
    "#     conv8 = Conv3D(64, (3, 3, 3), activation='relu', padding='same')(conv8)\n",
    "    \n",
    "    up9 = concatenate([Conv3DTranspose(32, (2, 2, 2), strides=(2, 2, 2), padding='same')(conv8), conv1], axis=1)\n",
    "    conv9 = Conv3D(32, (3, 3, 3), activation='relu', padding='same')(up9)\n",
    "    conv9 = Conv3D(32, (3, 3, 3), activation='relu', padding='same')(conv9)\n",
    "    \n",
    "    conv10 = Conv3D(classes, (3, 3, 3), padding='same')(conv9)\n",
    "          \n",
    "    reshape = Reshape((classes, data_shape), input_shape=(classes,length, width, height))(conv10)\n",
    "    perm = Permute((2, 1))(reshape)\n",
    "    softmax = Activation(\"softmax\")(perm)\n",
    "    \n",
    "    model = Model(inputs=[inputs], outputs=[softmax])\n",
    "    \n",
    "    if weightsPath is not None:\n",
    "        model.load_weights(weightsPath)\n",
    "    \n",
    "    return model \n"
   ]
  },
  {
   "cell_type": "markdown",
   "metadata": {
    "colab_type": "text",
    "id": "M_o7E2kFMLaG"
   },
   "source": [
    "## Cardiac dataset"
   ]
  },
  {
   "cell_type": "code",
   "execution_count": 0,
   "metadata": {
    "colab": {},
    "colab_type": "code",
    "id": "qKZDl2tVMKkB"
   },
   "outputs": [],
   "source": [
    "X_cardiac=np.load('gdrive/My Drive/Phase 1 Project/X_cardiac.npy')\n",
    "Y_cardiac=np.load('gdrive/My Drive/Phase 1 Project/Y_cardiac_categorical.npy')\n",
    "X_cardiac=X_cardiac#.astype('float32')\n",
    "Y_cardiac=Y_cardiac#.astype('float32')\n",
    "X_cardiac_whitened = np.zeros(X_cardiac.shape)\n",
    "for i in range(X_cardiac.shape[0]):\n",
    "  temp1=X_cardiac[i]\n",
    "  temp2=(temp1 - np.mean(temp1))/(np.std(temp1))\n",
    "  X_cardiac_whitened[i]=temp2"
   ]
  },
  {
   "cell_type": "code",
   "execution_count": 0,
   "metadata": {
    "colab": {},
    "colab_type": "code",
    "id": "Xp28OPd1q5h-"
   },
   "outputs": [],
   "source": [
    "X_cardiac_whitened=np.reshape(X_cardiac_whitened,(X_cardiac_whitened.shape[0],  1 ,X_cardiac_whitened.shape[1] ,X_cardiac_whitened.shape[2] ,X_cardiac_whitened.shape[3]))"
   ]
  },
  {
   "cell_type": "code",
   "execution_count": 0,
   "metadata": {
    "colab": {
     "base_uri": "https://localhost:8080/",
     "height": 88
    },
    "colab_type": "code",
    "id": "-ANtm8DenULM",
    "outputId": "38774ad2-d4e9-4cd2-9254-7c4a76dd9398"
   },
   "outputs": [
    {
     "name": "stdout",
     "output_type": "stream",
     "text": [
      "The shape of x_train_cardiac is : (16, 1, 320, 320, 128)\n",
      "The shape of x_test_cardiac is : (4, 1, 320, 320, 128)\n",
      "The shape of y_train_cardiac is : (16, 13107200, 2)\n",
      "The shape of y_test_cardiac is : (4, 13107200, 2)\n"
     ]
    }
   ],
   "source": [
    "x_train_cardiac, x_test_cardiac, y_train_cardiac, y_test_cardiac = train_test_split(X_cardiac_whitened, Y_cardiac, test_size=0.20)\n",
    "print('The shape of x_train_cardiac is :',x_train_cardiac.shape)\n",
    "print('The shape of x_test_cardiac is :',x_test_cardiac.shape)\n",
    "print('The shape of y_train_cardiac is :',y_train_cardiac.shape)\n",
    "print('The shape of y_test_cardiac is :',y_test_cardiac.shape)"
   ]
  },
  {
   "cell_type": "code",
   "execution_count": 0,
   "metadata": {
    "colab": {
     "base_uri": "https://localhost:8080/",
     "height": 561
    },
    "colab_type": "code",
    "id": "zCHIBDu8MT_q",
    "outputId": "10ef6b9d-5af4-4eaf-fd0f-eb7657c46e4f"
   },
   "outputs": [
    {
     "name": "stdout",
     "output_type": "stream",
     "text": [
      "WARNING:tensorflow:From /usr/local/lib/python3.6/dist-packages/keras/backend/tensorflow_backend.py:66: The name tf.get_default_graph is deprecated. Please use tf.compat.v1.get_default_graph instead.\n",
      "\n",
      "WARNING:tensorflow:From /usr/local/lib/python3.6/dist-packages/keras/backend/tensorflow_backend.py:541: The name tf.placeholder is deprecated. Please use tf.compat.v1.placeholder instead.\n",
      "\n",
      "WARNING:tensorflow:From /usr/local/lib/python3.6/dist-packages/keras/backend/tensorflow_backend.py:4432: The name tf.random_uniform is deprecated. Please use tf.random.uniform instead.\n",
      "\n",
      "WARNING:tensorflow:From /usr/local/lib/python3.6/dist-packages/keras/backend/tensorflow_backend.py:190: The name tf.get_default_session is deprecated. Please use tf.compat.v1.get_default_session instead.\n",
      "\n",
      "WARNING:tensorflow:From /usr/local/lib/python3.6/dist-packages/keras/backend/tensorflow_backend.py:207: The name tf.global_variables is deprecated. Please use tf.compat.v1.global_variables instead.\n",
      "\n"
     ]
    },
    {
     "ename": "NameError",
     "evalue": "ignored",
     "output_type": "error",
     "traceback": [
      "\u001b[0;31m---------------------------------------------------------------------------\u001b[0m",
      "\u001b[0;31mNameError\u001b[0m                                 Traceback (most recent call last)",
      "\u001b[0;32m<ipython-input-9-98b990b19f7e>\u001b[0m in \u001b[0;36m<module>\u001b[0;34m()\u001b[0m\n\u001b[1;32m      1\u001b[0m \u001b[0mlength\u001b[0m\u001b[0;34m,\u001b[0m\u001b[0mwidth\u001b[0m\u001b[0;34m,\u001b[0m\u001b[0mheight\u001b[0m\u001b[0;34m,\u001b[0m\u001b[0mclasses\u001b[0m\u001b[0;34m,\u001b[0m\u001b[0mdepth\u001b[0m\u001b[0;34m=\u001b[0m\u001b[0;36m320\u001b[0m\u001b[0;34m,\u001b[0m\u001b[0;36m320\u001b[0m\u001b[0;34m,\u001b[0m\u001b[0;36m128\u001b[0m\u001b[0;34m,\u001b[0m\u001b[0;36m2\u001b[0m\u001b[0;34m,\u001b[0m\u001b[0;36m1\u001b[0m\u001b[0;34m\u001b[0m\u001b[0;34m\u001b[0m\u001b[0m\n\u001b[1;32m      2\u001b[0m \u001b[0mweightsPath\u001b[0m\u001b[0;34m=\u001b[0m\u001b[0;32mNone\u001b[0m\u001b[0;34m\u001b[0m\u001b[0;34m\u001b[0m\u001b[0m\n\u001b[0;32m----> 3\u001b[0;31m \u001b[0mcardiac\u001b[0m \u001b[0;34m=\u001b[0m \u001b[0mU_Net\u001b[0m\u001b[0;34m(\u001b[0m\u001b[0mlength\u001b[0m\u001b[0;34m,\u001b[0m\u001b[0mwidth\u001b[0m\u001b[0;34m,\u001b[0m \u001b[0mheight\u001b[0m\u001b[0;34m,\u001b[0m \u001b[0mdepth\u001b[0m\u001b[0;34m,\u001b[0m \u001b[0mclasses\u001b[0m\u001b[0;34m=\u001b[0m\u001b[0;36m2\u001b[0m\u001b[0;34m,\u001b[0m\u001b[0mweightsPath\u001b[0m\u001b[0;34m=\u001b[0m\u001b[0;32mNone\u001b[0m\u001b[0;34m)\u001b[0m\u001b[0;34m\u001b[0m\u001b[0;34m\u001b[0m\u001b[0m\n\u001b[0m\u001b[1;32m      4\u001b[0m \u001b[0mprint\u001b[0m\u001b[0;34m(\u001b[0m\u001b[0mcardiac\u001b[0m\u001b[0;34m.\u001b[0m\u001b[0msummary\u001b[0m\u001b[0;34m(\u001b[0m\u001b[0;34m)\u001b[0m\u001b[0;34m)\u001b[0m\u001b[0;34m\u001b[0m\u001b[0;34m\u001b[0m\u001b[0m\n\u001b[1;32m      5\u001b[0m \u001b[0;34m\u001b[0m\u001b[0m\n",
      "\u001b[0;32m<ipython-input-5-9c92d5f0f643>\u001b[0m in \u001b[0;36mU_Net\u001b[0;34m(length, width, height, depth, classes, weightsPath)\u001b[0m\n\u001b[1;32m     55\u001b[0m \u001b[0;31m#     conv8 = Conv3D(64, (3, 3, 3), activation='relu', padding='same')(conv8)\u001b[0m\u001b[0;34m\u001b[0m\u001b[0;34m\u001b[0m\u001b[0;34m\u001b[0m\u001b[0m\n\u001b[1;32m     56\u001b[0m \u001b[0;34m\u001b[0m\u001b[0m\n\u001b[0;32m---> 57\u001b[0;31m     \u001b[0mup9\u001b[0m \u001b[0;34m=\u001b[0m \u001b[0mconcatenate\u001b[0m\u001b[0;34m(\u001b[0m\u001b[0;34m[\u001b[0m\u001b[0mConv3DTranspose\u001b[0m\u001b[0;34m(\u001b[0m\u001b[0;36m32\u001b[0m\u001b[0;34m,\u001b[0m \u001b[0;34m(\u001b[0m\u001b[0;36m2\u001b[0m\u001b[0;34m,\u001b[0m \u001b[0;36m2\u001b[0m\u001b[0;34m,\u001b[0m \u001b[0;36m2\u001b[0m\u001b[0;34m)\u001b[0m\u001b[0;34m,\u001b[0m \u001b[0mstrides\u001b[0m\u001b[0;34m=\u001b[0m\u001b[0;34m(\u001b[0m\u001b[0;36m2\u001b[0m\u001b[0;34m,\u001b[0m \u001b[0;36m2\u001b[0m\u001b[0;34m,\u001b[0m \u001b[0;36m2\u001b[0m\u001b[0;34m)\u001b[0m\u001b[0;34m,\u001b[0m \u001b[0mpadding\u001b[0m\u001b[0;34m=\u001b[0m\u001b[0;34m'same'\u001b[0m\u001b[0;34m)\u001b[0m\u001b[0;34m(\u001b[0m\u001b[0mconv8\u001b[0m\u001b[0;34m)\u001b[0m\u001b[0;34m,\u001b[0m \u001b[0mconv1\u001b[0m\u001b[0;34m]\u001b[0m\u001b[0;34m,\u001b[0m \u001b[0maxis\u001b[0m\u001b[0;34m=\u001b[0m\u001b[0;36m1\u001b[0m\u001b[0;34m)\u001b[0m\u001b[0;34m\u001b[0m\u001b[0;34m\u001b[0m\u001b[0m\n\u001b[0m\u001b[1;32m     58\u001b[0m     \u001b[0mconv9\u001b[0m \u001b[0;34m=\u001b[0m \u001b[0mConv3D\u001b[0m\u001b[0;34m(\u001b[0m\u001b[0;36m32\u001b[0m\u001b[0;34m,\u001b[0m \u001b[0;34m(\u001b[0m\u001b[0;36m3\u001b[0m\u001b[0;34m,\u001b[0m \u001b[0;36m3\u001b[0m\u001b[0;34m,\u001b[0m \u001b[0;36m3\u001b[0m\u001b[0;34m)\u001b[0m\u001b[0;34m,\u001b[0m \u001b[0mactivation\u001b[0m\u001b[0;34m=\u001b[0m\u001b[0;34m'relu'\u001b[0m\u001b[0;34m,\u001b[0m \u001b[0mpadding\u001b[0m\u001b[0;34m=\u001b[0m\u001b[0;34m'same'\u001b[0m\u001b[0;34m)\u001b[0m\u001b[0;34m(\u001b[0m\u001b[0mup9\u001b[0m\u001b[0;34m)\u001b[0m\u001b[0;34m\u001b[0m\u001b[0;34m\u001b[0m\u001b[0m\n\u001b[1;32m     59\u001b[0m     \u001b[0mconv9\u001b[0m \u001b[0;34m=\u001b[0m \u001b[0mConv3D\u001b[0m\u001b[0;34m(\u001b[0m\u001b[0;36m32\u001b[0m\u001b[0;34m,\u001b[0m \u001b[0;34m(\u001b[0m\u001b[0;36m3\u001b[0m\u001b[0;34m,\u001b[0m \u001b[0;36m3\u001b[0m\u001b[0;34m,\u001b[0m \u001b[0;36m3\u001b[0m\u001b[0;34m)\u001b[0m\u001b[0;34m,\u001b[0m \u001b[0mactivation\u001b[0m\u001b[0;34m=\u001b[0m\u001b[0;34m'relu'\u001b[0m\u001b[0;34m,\u001b[0m \u001b[0mpadding\u001b[0m\u001b[0;34m=\u001b[0m\u001b[0;34m'same'\u001b[0m\u001b[0;34m)\u001b[0m\u001b[0;34m(\u001b[0m\u001b[0mconv9\u001b[0m\u001b[0;34m)\u001b[0m\u001b[0;34m\u001b[0m\u001b[0;34m\u001b[0m\u001b[0m\n",
      "\u001b[0;31mNameError\u001b[0m: name 'conv8' is not defined"
     ]
    }
   ],
   "source": [
    "length,width,height,classes,depth=320,320,128,2,1\n",
    "weightsPath=None\n",
    "cardiac = U_Net(length,width, height, depth, classes=2,weightsPath=None)\n",
    "print(cardiac.summary())\n",
    "\n",
    "# path2save='./cardiac.{epoch:02d}-{loss:.2f}-{val_loss:.2f}.hdf5'\n",
    "modelCheck = ModelCheckpoint('/.cardiac.{epoch:04d}-{acc:.4f}-{loss:.4f}.h5', monitor='acc', mode='auto')\n",
    "\n",
    "opt = adam(lr=1e-4)\n",
    "#Set the compiler parameter for the training\n",
    "cardiac.compile(loss=\"categorical_crossentropy\", optimizer=opt,metrics=[\"accuracy\"],sample_weight_mode='auto')\n",
    "print (\"Training the Model...\")\n"
   ]
  },
  {
   "cell_type": "code",
   "execution_count": 0,
   "metadata": {
    "colab": {},
    "colab_type": "code",
    "id": "Jsahg93GK8a8"
   },
   "outputs": [],
   "source": [
    "\n",
    "#Train the Network\n",
    "cardiac.fit(x_train_cardiac, y_train_cardiac, batch_size = 1, epochs= 50, verbose=0,callbacks= [modelCheck],validation_data=(x_test_cardiac, y_test_cardiac))\n"
   ]
  },
  {
   "cell_type": "code",
   "execution_count": 0,
   "metadata": {
    "colab": {},
    "colab_type": "code",
    "id": "fwU5_ZR5jc1c"
   },
   "outputs": [],
   "source": []
  }
 ],
 "metadata": {
  "accelerator": "TPU",
  "colab": {
   "collapsed_sections": [],
   "machine_shape": "hm",
   "name": "3D UNet.ipynb",
   "provenance": [],
   "version": "0.3.2"
  },
  "kernelspec": {
   "display_name": "Python 3",
   "language": "python",
   "name": "python3"
  },
  "language_info": {
   "codemirror_mode": {
    "name": "ipython",
    "version": 3
   },
   "file_extension": ".py",
   "mimetype": "text/x-python",
   "name": "python",
   "nbconvert_exporter": "python",
   "pygments_lexer": "ipython3",
   "version": "3.6.5"
  }
 },
 "nbformat": 4,
 "nbformat_minor": 1
}
